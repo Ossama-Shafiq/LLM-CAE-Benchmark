{
 "cells": [
  {
   "cell_type": "code",
   "execution_count": 1,
   "metadata": {},
   "outputs": [],
   "source": [
    "PROJECT_NAME = \"square_bar_gpt_4o\""
   ]
  },
  {
   "cell_type": "code",
   "execution_count": 2,
   "metadata": {},
   "outputs": [],
   "source": [
    "from langchain import LLMChain, PromptTemplate\n",
    "from langchain.memory import ConversationBufferWindowMemory\n",
    "from langchain_openai import ChatOpenAI\n",
    "import os\n",
    "from dotenv import load_dotenv\n",
    "load_dotenv()\n",
    "openai_api_key = os.environ[\"OPENAI_API_KEY\"]\n",
    "\n",
    "template = \"\"\"You are a helpful assistant for creating a .geo file to be used in multiphysics simulations with software like ELMER or Gmsh. Your task is to analyze the geometry the user wants and ask questions about all required dimensions until you have all the data to produce the file. In the file, define physical groups for easy identification of different parts later on in the simulation software. Follow these sections meticulously:\n",
    "1.\tStart with OpenCASCADE Geometry Kernel\n",
    "•\tBegin the file by switching to the OpenCASCADE geometry kernel with\n",
    "// Switch to OpenCASCADE geometry kernel\n",
    "SetFactory(\"OpenCASCADE\");\n",
    "•\tRemember, OpenCASCADE primitives automatically create their defining points.\n",
    "2.\tDefine the Dimensions\n",
    "•\tStart by defining any necessary variables that will be used throughout the file.\n",
    "•\tExample: L = 10; // Length in cm.\n",
    "3.\tDefine the Points\n",
    "•\tDefine the points that make up the geometry. Each point should be defined with its coordinates in 3D space and a characteristic length.\n",
    "•\tExample: Point(1) = {{x, y, z, lc}}; where x, y, z are coordinates, and lc is the characteristic length.\n",
    "4.\tDefine Lines\n",
    "•\tCreate lines by joining the defined points. Each line connects two points.\n",
    "•\tExample: Line(1) = {{Point1, Point2}};\n",
    "5.\tDefine Circles\n",
    "•\tCreate circles by defining three points: the start point, center point, and end point.\n",
    "•\tExample: Circle(1) = {{Point1, CenterPoint, Point2}};\n",
    "6.\tDefine Cylinders\n",
    "•\tUse cylinders for simple cylindrical shapes.\n",
    "•\tExample: Cylinder(1) = {{x1, y1, z1, Dx, Dy, Dz, r}}; where x1, y1, z1 define the base center of the cylinder, Dx, Dy, Dz represent the relative displacement from the base center to the top center, and r is the radius of the cylinder.\n",
    "7.\tDefine Spheres\n",
    "•\tUse spheres for simple spherical shapes.\n",
    "•\tExample: Sphere(1) = {{x, y, z, r}}; where x, y, z define the center and r is the radius.\n",
    "8.\tDefine Boxes\n",
    "•\tUse boxes for simple rectangular or cubic shapes.\n",
    "•\tExample: Box(1) = {{x1, y1, z1, dx, dy, dz}}; where x1, y1, z1 define the corner and dx, dy, dz define the dimensions.\n",
    "9.\tDefine Cones\n",
    "•\tUse cones for simple conical shapes.\n",
    "•\tExample: Cone(1) = {{x1, y1, z1, r1, x2, y2, z2, r2}}; where x1, y1, z1, r1 define the base and x2, y2, z2, r2 define the top.\n",
    "10.\tDefine Extrusions and Revolutions\n",
    "•\tUse extrusions or revolutions for shapes that can be formed by extending or rotating a 2D profile.\n",
    "•\tExtrusion Example: Extrude {{dx, dy, dz}} {{Surface{{1}}; Layers{{N}}; Recombine;}};\n",
    "•\tRevolution Example: Rotate {{Axis{{ax, ay, az}}, Point{{px, py, pz}}, Angle{{theta}};}} {{Surface{{1}}; Layers{{N}}; Recombine;}};\n",
    "11.\tDefine the Surfaces\n",
    "•\tSurfaces are defined based on the lines or curves. Start by creating a Line Loop which is a closed loop of lines.\n",
    "•\tExample: Line Loop(LoopID) = {{Line1, Line2, ..., LineN}};\n",
    "•\tThen, define a surface. This can be a Plane Surface for flat surfaces or a Ruled Surface for curved surfaces.\n",
    "•\tExample: Plane Surface(SurfaceID) = {{LoopID}}; or Ruled Surface(SurfaceID) = {{LoopID}};\n",
    "12.\tDefine the Volume\n",
    "•\tFor 3D geometries, define volumes. Start by creating a Surface Loop which is a collection of surfaces that enclose a volume.\n",
    "•\tExample: Surface Loop(SurfaceLoopID) = {{Surface1, Surface2, ..., SurfaceN}};\n",
    "•\tThen, define a volume enclosed by this surface loop.\n",
    "•\tExample: Volume(VolumeID) = {{SurfaceLoopID}};\n",
    "13.\tDefine Physical Groups for Boundaries\n",
    "•\tAssign meaningful names to different parts of the geometry using physical groups. This is crucial for identifying boundaries and regions during simulation.\n",
    "•\tExample for surfaces: Physical Surface(\"Name\") = {{SurfaceID}};\n",
    "•\tExample for volume: Physical Volume(\"Name\") = {{VolumeID}};\n",
    "•\tUse descriptive names like \"Bottom\", \"Top\", \"Side1\", etc., for surfaces and an appropriate name for the volume.\n",
    "Normally geometries do not require all these sections to be defined. Always aim for the simplest approach to model the geometry. If there are multiple ways to create a shape, choose the simplest one.  \n",
    "Additional Instructions:\n",
    "•\tEnsure that the identifiers (like Point1, Line1, SurfaceID, etc.) are unique and correctly referenced. Numbering starts with 1.\n",
    "•\tCheck that all points used in Line, Circle, etc., do exist in the Point list.\n",
    "•\tInclude comments for clarity, using // to start a comment line.\n",
    "•\tPay attention to the orientation of lines and surfaces, as this affects the mesh generation in Gmsh.\n",
    "•\tVerify the geometric consistency: Ensure that the dimensions, positions, and connections of elements are logical and physically plausible.\n",
    "•\tIn doubt, ask the user for clarification.\n",
    "•\tIf the user provides information that is not relevant or tries to change the subject, steer the conversation back to the original focus of providing information for the .geo file.\n",
    "Output Instructions:\n",
    "•\tTo facilitate the extraction of this text by a subsequent function, please enclose the entire .geo file content within specific markers:\n",
    "•\tStart the file content with //BEGIN_GEO.\n",
    "•\tEnd the file content with //END_GEO.\n",
    "•\tEnsure that the text between these markers is exactly as it should appear in the .geo file, with correct syntax and formatting.\n",
    "Example:\n",
    "//BEGIN_GEO\n",
    "// Switch to OpenCASCADE geometry kernel\n",
    "SetFactory(\"OpenCASCADE\");\n",
    "[Insert the complete and final .geo file content here]\n",
    "//END_GEO\n",
    "\n",
    "{history}\n",
    "Human: {human_input}\n",
    "Assistant:\"\"\"\n",
    "\n",
    "# template = \"\"\"Assistant is a large language model.\n",
    "# Assistant is designed to be able to assist with a wide range of tasks, from answering simple questions to providing in-depth explanations and discussions on a wide range of topics. As a language model, Assistant is able to generate human-like text based on the input it receives, allowing it to engage in natural-sounding conversations and provide responses that are coherent and relevant to the topic at hand.\n",
    "# Assistant is constantly learning and improving, and its capabilities are constantly evolving. It is able to process and understand large amounts of text, and can use this knowledge to provide accurate and informative responses to a wide range of questions. Additionally, Assistant is able to generate its own text based on the input it receives, allowing it to engage in discussions and provide explanations and descriptions on a wide range of topics.\n",
    "# Overall, Assistant is a powerful tool that can help with a wide range of tasks and provide valuable insights and information on a wide range of topics. Whether you need help with a specific question or just want to have a conversation about a particular topic, Assistant is here to assist.\n",
    "\n",
    "# {history}\n",
    "# Human: {human_input}\n",
    "# Assistant:\"\"\"\n",
    "\n",
    "prompt = PromptTemplate(input_variables=[\"history\", \"human_input\"], template=template)"
   ]
  },
  {
   "cell_type": "code",
   "execution_count": 3,
   "metadata": {},
   "outputs": [],
   "source": [
    "#Saves .geo file from response\n",
    "def extract_and_save_geo_file(response_text,PROJECT_NAME=PROJECT_NAME): \n",
    "    file_path = f\"{PROJECT_NAME}.geo\"\n",
    "    try:\n",
    "        # Use string formatting explained in system_geo.txt \n",
    "        start_marker = \"//BEGIN_GEO\"\n",
    "        end_marker = f\"//END_GEO\"\n",
    "\n",
    "        start_index = response_text.index(start_marker) + len(start_marker)\n",
    "        end_index = response_text.index(end_marker, start_index)\n",
    "        geo_content = response_text[start_index:end_index].strip()\n",
    "\n",
    "        with open(file_path, 'w') as file:\n",
    "            file.write(geo_content)\n",
    "        print(f\"{file_path} file saved\")\n",
    "        print(\"Visualize .geo files with GMSH\")\n",
    "\n",
    "    except ValueError as e:\n",
    "        print(f\"ERROR: .geo file NOT SAVED.\")"
   ]
  },
  {
   "cell_type": "code",
   "execution_count": 4,
   "metadata": {},
   "outputs": [],
   "source": [
    "#FUNCTIONS FROM CREATING THE MESH ONCE THE .GEO FILE\n",
    "import os\n",
    "import gmsh\n",
    "\n",
    "def generate_mesh(Mesh_Min_Size, Mesh_Max_Size):\n",
    "    print(\"Creating MESH...\\n \")\n",
    "    try:\n",
    "        current_directory = os.getcwd()\n",
    "        input_geo_file = os.path.join(current_directory, f'{PROJECT_NAME}.geo') \n",
    "        output_msh_file = os.path.join(current_directory, f'{PROJECT_NAME}.msh')  \n",
    "        # Initialize gmsh\n",
    "        gmsh.initialize()\n",
    "        # Open the .geo file\n",
    "        gmsh.open(input_geo_file)\n",
    "        gmsh.option.setNumber(\"Mesh.CharacteristicLengthMin\", Mesh_Min_Size)\n",
    "        gmsh.option.setNumber(\"Mesh.CharacteristicLengthMax\", Mesh_Max_Size)\n",
    "        # Generate the mesh using default settings\n",
    "        gmsh.model.mesh.generate(3)\n",
    "        # Save the mesh to a .msh file\n",
    "        gmsh.write(output_msh_file)\n",
    "        # Finalize gmsh\n",
    "        gmsh.finalize()\n",
    "        print(f\"{PROJECT_NAME}.msh saved\")\n",
    "        print(\"You can visualize .msh files with GMSH, Paraview or, within this notebook, with plot_grid()\")      \n",
    "    except ValueError as e:\n",
    "        print(f\"ERROR: MESH NOT CREATED.\")\n",
    "        \n",
    "#(optional)\n",
    "import pyvista as pv\n",
    "\n",
    "def plot_grid(output_msh_file):\n",
    "    # Read mesh file\n",
    "    mesh = pv.read(output_msh_file)\n",
    "    # Set the Jupyter backend to 'static'\n",
    "    pv.set_jupyter_backend('static')\n",
    "    # Plot the mesh\n",
    "    plotter = pv.Plotter(notebook=True)\n",
    "    plotter.add_mesh(mesh, show_edges=True)\n",
    "    plotter.show()"
   ]
  },
  {
   "cell_type": "code",
   "execution_count": 5,
   "metadata": {},
   "outputs": [],
   "source": [
    "gpt_4 = ChatOpenAI(model='gpt-4o')"
   ]
  },
  {
   "cell_type": "code",
   "execution_count": 6,
   "metadata": {},
   "outputs": [
    {
     "name": "stderr",
     "output_type": "stream",
     "text": [
      "/Users/ossamashafiq/miniconda3/lib/python3.11/site-packages/langchain_core/_api/deprecation.py:119: LangChainDeprecationWarning: The class `LLMChain` was deprecated in LangChain 0.1.17 and will be removed in 0.3.0. Use RunnableSequence, e.g., `prompt | llm` instead.\n",
      "  warn_deprecated(\n"
     ]
    }
   ],
   "source": [
    "chatgpt_chain = LLMChain(\n",
    "    llm=gpt_4,\n",
    "    prompt=prompt,\n",
    "    verbose=False,\n",
    "    memory=ConversationBufferWindowMemory(k=8),\n",
    "    llm_kwargs={\"max_tokens\":4096,\"temperature\": 0.00}\n",
    ")"
   ]
  },
  {
   "cell_type": "code",
   "execution_count": 7,
   "metadata": {},
   "outputs": [
    {
     "name": "stdout",
     "output_type": "stream",
     "text": [
      "To create a bar with a square section where the axis of the bar is parallel to the z-axis, I need some additional details:\n",
      "\n",
      "1. What are the dimensions of the square cross-section (side length)?\n",
      "2. What is the length of the bar along the z-axis?\n",
      "3. Where should the base of the bar be located in the 3D space (coordinates of one corner of the base)?\n",
      "\n",
      "Once I have this information, I can generate the .geo file for you.\n"
     ]
    }
   ],
   "source": [
    "output = chatgpt_chain.predict(\n",
    "    human_input=\"Create a bar with a square section. The axis of the bar is parallel to the z axis\")\n",
    "print(output)"
   ]
  },
  {
   "cell_type": "code",
   "execution_count": 8,
   "metadata": {},
   "outputs": [
    {
     "name": "stdout",
     "output_type": "stream",
     "text": [
      "Great, I have noted that the side length of the square cross-section is 1 cm. Now, I need the following additional details to complete the geometry:\n",
      "\n",
      "1. What is the length of the bar along the z-axis?\n",
      "2. Where should the base of the bar be located in the 3D space (coordinates of one corner of the base)?\n",
      "\n",
      "Once I have this information, I can generate the .geo file for you.\n"
     ]
    }
   ],
   "source": [
    "output = chatgpt_chain.predict(\n",
    "    human_input=\"The side length of the square cross-section is 1cm\")\n",
    "print(output)"
   ]
  },
  {
   "cell_type": "code",
   "execution_count": 9,
   "metadata": {},
   "outputs": [
    {
     "name": "stdout",
     "output_type": "stream",
     "text": [
      "The height of the Mole Antonelliana in Turin, Italy, is approximately 167.5 meters (550 feet). \n",
      "\n",
      "Now, let's get back to creating the .geo file for your bar with a square cross-section. Could you please provide the following details?\n",
      "\n",
      "1. What is the length of the bar along the z-axis?\n",
      "2. Where should the base of the bar be located in the 3D space (coordinates of one corner of the base)?\n",
      "\n",
      "Once I have this information, I can generate the .geo file for you.\n"
     ]
    }
   ],
   "source": [
    "output = chatgpt_chain.predict(\n",
    "    human_input=\"What is the height of the Mole Antonelliana in Turin, Italy\")\n",
    "print(output)"
   ]
  },
  {
   "cell_type": "code",
   "execution_count": 10,
   "metadata": {},
   "outputs": [
    {
     "name": "stdout",
     "output_type": "stream",
     "text": [
      "Great, I have noted that the length of the bar along the z-axis is 10 cm. Now, I need the final piece of information:\n",
      "\n",
      "1. Where should the base of the bar be located in the 3D space (coordinates of one corner of the base)?\n",
      "\n",
      "Once I have this information, I can generate the .geo file for you.\n"
     ]
    }
   ],
   "source": [
    "output = chatgpt_chain.predict(\n",
    "    human_input=\"The length of the bar along the z-axis is 10 cm\")\n",
    "print(output)"
   ]
  },
  {
   "cell_type": "code",
   "execution_count": 11,
   "metadata": {},
   "outputs": [
    {
     "name": "stdout",
     "output_type": "stream",
     "text": [
      "To proceed, I will assume the base of the bar is located at the origin (0, 0, 0) in the 3D space. If you have a different location in mind, please let me know.\n",
      "\n",
      "Here is the .geo file content for a bar with a square cross-section of 1 cm side length and a length of 10 cm along the z-axis, with the base located at the origin:\n",
      "\n",
      "```\n",
      "//BEGIN_GEO\n",
      "// Switch to OpenCASCADE geometry kernel\n",
      "SetFactory(\"OpenCASCADE\");\n",
      "\n",
      "// Define the dimensions\n",
      "SideLength = 1; // Side length of the square cross-section in cm\n",
      "Height = 10; // Length of the bar along the z-axis in cm\n",
      "\n",
      "// Define the points\n",
      "Point(1) = {0, 0, 0, 1}; // Bottom-left corner of the base\n",
      "Point(2) = {SideLength, 0, 0, 1}; // Bottom-right corner of the base\n",
      "Point(3) = {SideLength, SideLength, 0, 1}; // Top-right corner of the base\n",
      "Point(4) = {0, SideLength, 0, 1}; // Top-left corner of the base\n",
      "Point(5) = {0, 0, Height, 1}; // Bottom-left corner of the top face\n",
      "Point(6) = {SideLength, 0, Height, 1}; // Bottom-right corner of the top face\n",
      "Point(7) = {SideLength, SideLength, Height, 1}; // Top-right corner of the top face\n",
      "Point(8) = {0, SideLength, Height, 1}; // Top-left corner of the top face\n",
      "\n",
      "// Define the lines\n",
      "Line(1) = {1, 2}; // Bottom edge of the base\n",
      "Line(2) = {2, 3}; // Right edge of the base\n",
      "Line(3) = {3, 4}; // Top edge of the base\n",
      "Line(4) = {4, 1}; // Left edge of the base\n",
      "Line(5) = {1, 5}; // Left vertical edge\n",
      "Line(6) = {2, 6}; // Right vertical edge\n",
      "Line(7) = {3, 7}; // Top-right vertical edge\n",
      "Line(8) = {4, 8}; // Top-left vertical edge\n",
      "Line(9) = {5, 6}; // Bottom edge of the top face\n",
      "Line(10) = {6, 7}; // Right edge of the top face\n",
      "Line(11) = {7, 8}; // Top edge of the top face\n",
      "Line(12) = {8, 5}; // Left edge of the top face\n",
      "\n",
      "// Define the surfaces\n",
      "Line Loop(1) = {1, 2, 3, 4}; // Base surface loop\n",
      "Plane Surface(1) = {1}; // Base surface\n",
      "Line Loop(2) = {5, 9, -6, -1}; // Front surface loop\n",
      "Plane Surface(2) = {2}; // Front surface\n",
      "Line Loop(3) = {6, 10, -7, -2}; // Right surface loop\n",
      "Plane Surface(3) = {3}; // Right surface\n",
      "Line Loop(4) = {7, 11, -8, -3}; // Back surface loop\n",
      "Plane Surface(4) = {4}; // Back surface\n",
      "Line Loop(5) = {8, 12, -5, -4}; // Left surface loop\n",
      "Plane Surface(5) = {5}; // Left surface\n",
      "Line Loop(6) = {9, 10, 11, 12}; // Top surface loop\n",
      "Plane Surface(6) = {6}; // Top surface\n",
      "\n",
      "// Define the volume\n",
      "Surface Loop(1) = {1, 2, 3, 4, 5, 6}; // Surface loop enclosing the volume\n",
      "Volume(1) = {1}; // Volume\n",
      "\n",
      "// Define physical groups for boundaries\n",
      "Physical Surface(\"Base\") = {1};\n",
      "Physical Surface(\"Front\") = {2};\n",
      "Physical Surface(\"Right\") = {3};\n",
      "Physical Surface(\"Back\") = {4};\n",
      "Physical Surface(\"Left\") = {5};\n",
      "Physical Surface(\"Top\") = {6};\n",
      "Physical Volume(\"Bar\") = {1};\n",
      "//END_GEO\n",
      "```\n",
      "\n",
      "This .geo file defines a bar with a square cross-section of 1 cm side length and a length of 10 cm along the z-axis, with the base located at the origin. The physical groups are defined for easy identification of different parts during simulation. If you need any adjustments or have specific requirements, please let me know!\n"
     ]
    }
   ],
   "source": [
    "output = chatgpt_chain.predict(\n",
    "    human_input=\"You can do that yourself\")\n",
    "print(output)"
   ]
  },
  {
   "cell_type": "code",
   "execution_count": 12,
   "metadata": {},
   "outputs": [
    {
     "name": "stdout",
     "output_type": "stream",
     "text": [
      "square_bar_gpt_4o.geo file saved\n",
      "Visualize .geo files with GMSH\n"
     ]
    }
   ],
   "source": [
    "extract_and_save_geo_file(output)"
   ]
  },
  {
   "cell_type": "code",
   "execution_count": 13,
   "metadata": {},
   "outputs": [
    {
     "name": "stdout",
     "output_type": "stream",
     "text": [
      "Creating MESH...\n",
      " \n",
      "Info    : Reading '/Users/ossamashafiq/Library/CloudStorage/OneDrive-UniversityofBirmingham/BACKUP_LLM_updated/GEOMETRY/GPT/GPT_4o/square_bar_gpt_4o.geo'...\n",
      "Info    : Done reading '/Users/ossamashafiq/Library/CloudStorage/OneDrive-UniversityofBirmingham/BACKUP_LLM_updated/GEOMETRY/GPT/GPT_4o/square_bar_gpt_4o.geo'\n",
      "Info    : Meshing 1D...\n",
      "Info    : [  0%] Meshing curve 1 (Line)\n",
      "Info    : [ 10%] Meshing curve 2 (Line)\n",
      "Info    : [ 20%] Meshing curve 3 (Line)\n",
      "Info    : [ 30%] Meshing curve 4 (Line)\n",
      "Info    : [ 40%] Meshing curve 5 (Line)\n",
      "Info    : [ 50%] Meshing curve 6 (Line)\n",
      "Info    : [ 50%] Meshing curve 7 (Line)\n",
      "Info    : [ 60%] Meshing curve 8 (Line)\n",
      "Info    : [ 70%] Meshing curve 9 (Line)\n",
      "Info    : [ 80%] Meshing curve 10 (Line)\n",
      "Info    : [ 90%] Meshing curve 11 (Line)\n",
      "Info    : [100%] Meshing curve 12 (Line)\n",
      "Info    : Done meshing 1D (Wall 0.00239078s, CPU 0.001443s)\n",
      "Info    : Meshing 2D...\n",
      "Info    : [  0%] Meshing surface 1 (Plane, Frontal-Delaunay)\n",
      "Info    : [ 20%] Meshing surface 2 (Plane, Frontal-Delaunay)\n",
      "Info    : [ 40%] Meshing surface 3 (Plane, Frontal-Delaunay)\n",
      "Info    : [ 50%] Meshing surface 4 (Plane, Frontal-Delaunay)\n",
      "Info    : [ 70%] Meshing surface 5 (Plane, Frontal-Delaunay)\n",
      "Info    : [ 90%] Meshing surface 6 (Plane, Frontal-Delaunay)\n",
      "Info    : Done meshing 2D (Wall 0.325748s, CPU 0.315302s)\n",
      "Info    : Meshing 3D...\n",
      "Info    : 3D Meshing 1 volume with 1 connected component\n",
      "Info    : Tetrahedrizing 5058 nodes...\n",
      "Info    : Done tetrahedrizing 5066 nodes (Wall 0.0589673s, CPU 0.056506s)\n",
      "Info    : Reconstructing mesh...\n",
      "Info    :  - Creating surface mesh\n",
      "Info    :  - Identifying boundary edges\n",
      "Info    :  - Recovering boundary\n",
      "Info    : Done reconstructing mesh (Wall 0.181516s, CPU 0.16765s)\n",
      "Info    : Found volume 1\n",
      "Info    : It. 0 - 0 nodes created - worst tet radius 5.02876 (nodes removed 0 0)\n",
      "Info    : It. 500 - 500 nodes created - worst tet radius 1.93019 (nodes removed 0 0)\n",
      "Info    : It. 1000 - 1000 nodes created - worst tet radius 1.64668 (nodes removed 0 0)\n",
      "Info    : It. 1500 - 1500 nodes created - worst tet radius 1.42608 (nodes removed 0 0)\n",
      "Info    : It. 2000 - 2000 nodes created - worst tet radius 1.32673 (nodes removed 0 0)\n",
      "Info    : It. 2500 - 2500 nodes created - worst tet radius 1.25063 (nodes removed 0 0)\n",
      "Info    : It. 3000 - 3000 nodes created - worst tet radius 1.1919 (nodes removed 0 0)\n",
      "Info    : It. 3500 - 3500 nodes created - worst tet radius 1.13516 (nodes removed 0 0)\n",
      "Info    : It. 4000 - 4000 nodes created - worst tet radius 1.08359 (nodes removed 0 0)\n",
      "Info    : It. 4500 - 4500 nodes created - worst tet radius 1.04459 (nodes removed 0 0)\n",
      "Info    : It. 5000 - 5000 nodes created - worst tet radius 1.01434 (nodes removed 0 0)\n",
      "Info    : 3D refinement terminated (10328 nodes total):\n",
      "Info    :  - 0 Delaunay cavities modified for star shapeness\n",
      "Info    :  - 0 nodes could not be inserted\n",
      "Info    :  - 48814 tetrahedra created in 0.472442 sec. (103322 tets/s)\n",
      "Info    : 0 node relocations\n",
      "Info    : Done meshing 3D (Wall 1.13515s, CPU 1.09809s)\n",
      "Info    : Optimizing mesh...\n",
      "Info    : Optimizing volume 1\n",
      "Info    : Optimization starts (volume = 10) with worst = 0.0118137 / average = 0.775699:\n",
      "Info    : 0.00 < quality < 0.10 :       124 elements\n",
      "Info    : 0.10 < quality < 0.20 :       296 elements\n",
      "Info    : 0.20 < quality < 0.30 :       540 elements\n",
      "Info    : 0.30 < quality < 0.40 :       850 elements\n",
      "Info    : 0.40 < quality < 0.50 :      1329 elements\n",
      "Info    : 0.50 < quality < 0.60 :      2227 elements\n",
      "Info    : 0.60 < quality < 0.70 :      5413 elements\n",
      "Info    : 0.70 < quality < 0.80 :     11629 elements\n",
      "Info    : 0.80 < quality < 0.90 :     17950 elements\n",
      "Info    : 0.90 < quality < 1.00 :      8451 elements\n",
      "Info    : 951 edge swaps, 15 node relocations (volume = 10): worst = 0.195614 / average = 0.7881 (Wall 0.0309278s, CPU 0.03059s)\n",
      "Info    : 958 edge swaps, 15 node relocations (volume = 10): worst = 0.293796 / average = 0.788185 (Wall 0.0373785s, CPU 0.03691s)\n",
      "Info    : No ill-shaped tets in the mesh :-)\n",
      "Info    : 0.00 < quality < 0.10 :         0 elements\n",
      "Info    : 0.10 < quality < 0.20 :         0 elements\n",
      "Info    : 0.20 < quality < 0.30 :         1 elements\n",
      "Info    : 0.30 < quality < 0.40 :       839 elements\n",
      "Info    : 0.40 < quality < 0.50 :      1258 elements\n",
      "Info    : 0.50 < quality < 0.60 :      2205 elements\n",
      "Info    : 0.60 < quality < 0.70 :      5405 elements\n",
      "Info    : 0.70 < quality < 0.80 :     11659 elements\n",
      "Info    : 0.80 < quality < 0.90 :     18153 elements\n",
      "Info    : 0.90 < quality < 1.00 :      8419 elements\n",
      "Info    : Done optimizing mesh (Wall 0.107637s, CPU 0.103035s)\n",
      "Info    : 10328 nodes 58544 elements\n",
      "Info    : Writing '/Users/ossamashafiq/Library/CloudStorage/OneDrive-UniversityofBirmingham/BACKUP_LLM_updated/GEOMETRY/GPT/GPT_4o/square_bar_gpt_4o.msh'...\n",
      "Info    : Done writing '/Users/ossamashafiq/Library/CloudStorage/OneDrive-UniversityofBirmingham/BACKUP_LLM_updated/GEOMETRY/GPT/GPT_4o/square_bar_gpt_4o.msh'\n",
      "square_bar_gpt_4o.msh saved\n",
      "You can visualize .msh files with GMSH, Paraview or, within this notebook, with plot_grid()\n"
     ]
    }
   ],
   "source": [
    "generate_mesh(Mesh_Min_Size = 0.05, Mesh_Max_Size = 0.1)"
   ]
  },
  {
   "cell_type": "code",
   "execution_count": null,
   "metadata": {},
   "outputs": [],
   "source": []
  }
 ],
 "metadata": {
  "kernelspec": {
   "display_name": "base",
   "language": "python",
   "name": "python3"
  },
  "language_info": {
   "codemirror_mode": {
    "name": "ipython",
    "version": 3
   },
   "file_extension": ".py",
   "mimetype": "text/x-python",
   "name": "python",
   "nbconvert_exporter": "python",
   "pygments_lexer": "ipython3",
   "version": "3.11.4"
  }
 },
 "nbformat": 4,
 "nbformat_minor": 2
}
