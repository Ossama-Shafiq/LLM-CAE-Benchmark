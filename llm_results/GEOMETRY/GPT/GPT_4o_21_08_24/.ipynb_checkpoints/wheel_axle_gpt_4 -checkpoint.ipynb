{
 "cells": [
  {
   "cell_type": "code",
   "execution_count": 1,
   "metadata": {},
   "outputs": [],
   "source": [
    "PROJECT_NAME = \"wheel_axle_gpt_4o\""
   ]
  },
  {
   "cell_type": "code",
   "execution_count": 2,
   "metadata": {},
   "outputs": [],
   "source": [
    "from langchain import LLMChain, PromptTemplate\n",
    "from langchain.memory import ConversationBufferWindowMemory\n",
    "from langchain_openai import ChatOpenAI\n",
    "import os\n",
    "from dotenv import load_dotenv\n",
    "load_dotenv()\n",
    "openai_api_key = os.environ[\"OPENAI_API_KEY\"]\n",
    "\n",
    "template = \"\"\"You are a helpful assistant for creating a .geo file to be used in multiphysics simulations with software like ELMER or Gmsh. Your task is to analyze the geometry the user wants and ask questions about all required dimensions until you have all the data to produce the file. In the file, define physical groups for easy identification of different parts later on in the simulation software. Follow these sections meticulously:\n",
    "1.\tStart with OpenCASCADE Geometry Kernel\n",
    "•\tBegin the file by switching to the OpenCASCADE geometry kernel with\n",
    "// Switch to OpenCASCADE geometry kernel\n",
    "SetFactory(\"OpenCASCADE\");\n",
    "•\tRemember, OpenCASCADE primitives automatically create their defining points.\n",
    "2.\tDefine the Dimensions\n",
    "•\tStart by defining any necessary variables that will be used throughout the file.\n",
    "•\tExample: L = 10; // Length in cm.\n",
    "3.\tDefine the Points\n",
    "•\tDefine the points that make up the geometry. Each point should be defined with its coordinates in 3D space and a characteristic length.\n",
    "•\tExample: Point(1) = {{x, y, z, lc}}; where x, y, z are coordinates, and lc is the characteristic length.\n",
    "4.\tDefine Lines\n",
    "•\tCreate lines by joining the defined points. Each line connects two points.\n",
    "•\tExample: Line(1) = {{Point1, Point2}};\n",
    "5.\tDefine Circles\n",
    "•\tCreate circles by defining three points: the start point, center point, and end point.\n",
    "•\tExample: Circle(1) = {{Point1, CenterPoint, Point2}};\n",
    "6.\tDefine Cylinders\n",
    "•\tUse cylinders for simple cylindrical shapes.\n",
    "•\tExample: Cylinder(1) = {{x1, y1, z1, Dx, Dy, Dz, r}}; where x1, y1, z1 define the base center of the cylinder, Dx, Dy, Dz represent the relative displacement from the base center to the top center, and r is the radius of the cylinder.\n",
    "7.\tDefine Spheres\n",
    "•\tUse spheres for simple spherical shapes.\n",
    "•\tExample: Sphere(1) = {{x, y, z, r}}; where x, y, z define the center and r is the radius.\n",
    "8.\tDefine Boxes\n",
    "•\tUse boxes for simple rectangular or cubic shapes.\n",
    "•\tExample: Box(1) = {{x1, y1, z1, dx, dy, dz}}; where x1, y1, z1 define the corner and dx, dy, dz define the dimensions.\n",
    "9.\tDefine Cones\n",
    "•\tUse cones for simple conical shapes.\n",
    "•\tExample: Cone(1) = {{x1, y1, z1, r1, x2, y2, z2, r2}}; where x1, y1, z1, r1 define the base and x2, y2, z2, r2 define the top.\n",
    "10.\tDefine Extrusions and Revolutions\n",
    "•\tUse extrusions or revolutions for shapes that can be formed by extending or rotating a 2D profile.\n",
    "•\tExtrusion Example: Extrude {{dx, dy, dz}} {{Surface{{1}}; Layers{{N}}; Recombine;}};\n",
    "•\tRevolution Example: Rotate {{Axis{{ax, ay, az}}, Point{{px, py, pz}}, Angle{{theta}};}} {{Surface{{1}}; Layers{{N}}; Recombine;}};\n",
    "11.\tDefine the Surfaces\n",
    "•\tSurfaces are defined based on the lines or curves. Start by creating a Line Loop which is a closed loop of lines.\n",
    "•\tExample: Line Loop(LoopID) = {{Line1, Line2, ..., LineN}};\n",
    "•\tThen, define a surface. This can be a Plane Surface for flat surfaces or a Ruled Surface for curved surfaces.\n",
    "•\tExample: Plane Surface(SurfaceID) = {{LoopID}}; or Ruled Surface(SurfaceID) = {{LoopID}};\n",
    "12.\tDefine the Volume\n",
    "•\tFor 3D geometries, define volumes. Start by creating a Surface Loop which is a collection of surfaces that enclose a volume.\n",
    "•\tExample: Surface Loop(SurfaceLoopID) = {{Surface1, Surface2, ..., SurfaceN}};\n",
    "•\tThen, define a volume enclosed by this surface loop.\n",
    "•\tExample: Volume(VolumeID) = {{SurfaceLoopID}};\n",
    "13.\tDefine Physical Groups for Boundaries\n",
    "•\tAssign meaningful names to different parts of the geometry using physical groups. This is crucial for identifying boundaries and regions during simulation.\n",
    "•\tExample for surfaces: Physical Surface(\"Name\") = {{SurfaceID}};\n",
    "•\tExample for volume: Physical Volume(\"Name\") = {{VolumeID}};\n",
    "•\tUse descriptive names like \"Bottom\", \"Top\", \"Side1\", etc., for surfaces and an appropriate name for the volume.\n",
    "Normally geometries do not require all these sections to be defined. Always aim for the simplest approach to model the geometry. If there are multiple ways to create a shape, choose the simplest one.  \n",
    "Additional Instructions:\n",
    "•\tEnsure that the identifiers (like Point1, Line1, SurfaceID, etc.) are unique and correctly referenced. Numbering starts with 1.\n",
    "•\tCheck that all points used in Line, Circle, etc., do exist in the Point list.\n",
    "•\tInclude comments for clarity, using // to start a comment line.\n",
    "•\tPay attention to the orientation of lines and surfaces, as this affects the mesh generation in Gmsh.\n",
    "•\tVerify the geometric consistency: Ensure that the dimensions, positions, and connections of elements are logical and physically plausible.\n",
    "•\tIn doubt, ask the user for clarification.\n",
    "•\tIf the user provides information that is not relevant or tries to change the subject, steer the conversation back to the original focus of providing information for the .geo file.\n",
    "Output Instructions:\n",
    "•\tTo facilitate the extraction of this text by a subsequent function, please enclose the entire .geo file content within specific markers:\n",
    "•\tStart the file content with //BEGIN_GEO.\n",
    "•\tEnd the file content with //END_GEO.\n",
    "•\tEnsure that the text between these markers is exactly as it should appear in the .geo file, with correct syntax and formatting.\n",
    "Example:\n",
    "//BEGIN_GEO\n",
    "// Switch to OpenCASCADE geometry kernel\n",
    "SetFactory(\"OpenCASCADE\");\n",
    "[Insert the complete and final .geo file content here]\n",
    "//END_GEO\n",
    "\n",
    "{history}\n",
    "Human: {human_input}\n",
    "Assistant:\"\"\"\n",
    "\n",
    "prompt = PromptTemplate(input_variables=[\"history\", \"human_input\"], template=template)     "
   ]
  },
  {
   "cell_type": "code",
   "execution_count": 3,
   "metadata": {},
   "outputs": [],
   "source": [
    "# Saves .geo file from response\n",
    "def extract_and_save_geo_file(response_text, PROJECT_NAME=PROJECT_NAME):\n",
    "    file_path = f\"{PROJECT_NAME}.geo\"\n",
    "    try:\n",
    "        # Use string formatting explained in system_geo.txt \n",
    "        start_marker = \"//BEGIN_GEO\"\n",
    "        end_marker = \"//END_GEO\"\n",
    "\n",
    "        start_index = response_text.index(start_marker) + len(start_marker)\n",
    "        end_index = response_text.index(end_marker, start_index)\n",
    "        geo_content = response_text[start_index:end_index].strip()\n",
    "\n",
    "        # Split the content into lines\n",
    "        lines = geo_content.split('\\n')\n",
    "\n",
    "        # Filter out lines that contain only \"```\"\n",
    "        filtered_lines = [line for line in lines if line.strip() != \"```\"]\n",
    "\n",
    "        # Join the lines back into a single string\n",
    "        cleaned_geo_content = '\\n'.join(filtered_lines)\n",
    "\n",
    "        with open(file_path, 'w') as file:\n",
    "            file.write(cleaned_geo_content)\n",
    "        print(f\"{file_path} file saved\")\n",
    "        print(\"Visualize .geo files with GMSH\")\n",
    "\n",
    "    except ValueError as e:\n",
    "        print(f\"ERROR: .geo file NOT SAVED.\")"
   ]
  },
  {
   "cell_type": "code",
   "execution_count": 4,
   "metadata": {},
   "outputs": [],
   "source": [
    "#FUNCTIONS FROM CREATING THE MESH ONCE THE .GEO FILE\n",
    "# extra preprocessing was required for gpt-4o as it included code in markers \"```\" like that in between the lines\n",
    "import os\n",
    "import gmsh\n",
    "\n",
    "def generate_mesh(Mesh_Min_Size, Mesh_Max_Size,PROJECT_NAME=PROJECT_NAME):\n",
    "    print(\"Creating MESH...\\n \")\n",
    "    try:\n",
    "        current_directory = os.getcwd()\n",
    "        input_geo_file = os.path.join(current_directory, f'{PROJECT_NAME}.geo') \n",
    "        output_msh_file = os.path.join(current_directory, f'{PROJECT_NAME}.msh')  \n",
    "        # Initialize gmsh\n",
    "        gmsh.initialize()\n",
    "        # Open the .geo file\n",
    "        gmsh.open(input_geo_file)\n",
    "        gmsh.option.setNumber(\"Mesh.CharacteristicLengthMin\", Mesh_Min_Size)\n",
    "        gmsh.option.setNumber(\"Mesh.CharacteristicLengthMax\", Mesh_Max_Size)\n",
    "        # Generate the mesh using default settings\n",
    "        gmsh.model.mesh.generate(3)\n",
    "        # Save the mesh to a .msh file\n",
    "        gmsh.write(output_msh_file)\n",
    "        # Finalize gmsh\n",
    "        gmsh.finalize()\n",
    "        print(f\"{PROJECT_NAME}.msh saved\")\n",
    "        print(\"You can visualize .msh files with GMSH, Paraview or, within this notebook, with plot_grid()\")      \n",
    "    except ValueError as e:\n",
    "        print(f\"ERROR: MESH NOT CREATED.\")\n",
    "        \n",
    "#(optional)\n",
    "import pyvista as pv\n",
    "\n",
    "def plot_grid(output_msh_file):\n",
    "    # Read mesh file\n",
    "    mesh = pv.read(output_msh_file)\n",
    "    # Set the Jupyter backend to 'static'\n",
    "    pv.set_jupyter_backend('static')\n",
    "    # Plot the mesh\n",
    "    plotter = pv.Plotter(notebook=True)\n",
    "    plotter.add_mesh(mesh, show_edges=True)\n",
    "    plotter.show()"
   ]
  },
  {
   "cell_type": "code",
   "execution_count": 5,
   "metadata": {},
   "outputs": [],
   "source": [
    "gpt_4 = ChatOpenAI(model='gpt-4o')"
   ]
  },
  {
   "cell_type": "code",
   "execution_count": 6,
   "metadata": {},
   "outputs": [
    {
     "name": "stderr",
     "output_type": "stream",
     "text": [
      "/Users/ossamashafiq/miniconda3/lib/python3.11/site-packages/langchain_core/_api/deprecation.py:119: LangChainDeprecationWarning: The class `LLMChain` was deprecated in LangChain 0.1.17 and will be removed in 0.3.0. Use RunnableSequence, e.g., `prompt | llm` instead.\n",
      "  warn_deprecated(\n"
     ]
    }
   ],
   "source": [
    "chatgpt_chain = LLMChain(\n",
    "    llm=gpt_4,\n",
    "    prompt=prompt,\n",
    "    verbose=False,\n",
    "    memory=ConversationBufferWindowMemory(k=8),\n",
    "    llm_kwargs={\"max_tokens\":4096,\"temperature\": 0.00}\n",
    ")"
   ]
  },
  {
   "cell_type": "code",
   "execution_count": 7,
   "metadata": {},
   "outputs": [
    {
     "name": "stdout",
     "output_type": "stream",
     "text": [
      "To create a simple wheel and axle geometry, I need some specific dimensions from you:\n",
      "\n",
      "1. **Axle Dimensions:**\n",
      "   - Length of the axle (L_axle):\n",
      "   - Radius of the axle (R_axle):\n",
      "\n",
      "2. **Wheel Dimensions:**\n",
      "   - Radius of the wheels (R_wheel):\n",
      "   - Thickness of the wheels (T_wheel):\n",
      "\n",
      "Once I have these dimensions, I can proceed to create the .geo file for you.\n"
     ]
    }
   ],
   "source": [
    "output = chatgpt_chain.predict(\n",
    "    human_input=\"Create a wheel and axle. Keep it simple. Assume that both Wheels and axle are cylinders.The wheels are located at the two ends of the axle. The axis of all cylinders is parallel to the z axis\")\n",
    "print(output)"
   ]
  },
  {
   "cell_type": "code",
   "execution_count": 8,
   "metadata": {},
   "outputs": [
    {
     "name": "stdout",
     "output_type": "stream",
     "text": [
      "Sure, I'll suggest some dimensions for the wheel and axle. Please review and confirm if these are acceptable:\n",
      "\n",
      "1. **Axle Dimensions:**\n",
      "   - Length of the axle (L_axle): 20 cm\n",
      "   - Radius of the axle (R_axle): 1 cm\n",
      "\n",
      "2. **Wheel Dimensions:**\n",
      "   - Radius of the wheels (R_wheel): 5 cm\n",
      "   - Thickness of the wheels (T_wheel): 2 cm\n",
      "\n",
      "If these dimensions are acceptable, I will proceed to create the .geo file for you. If you need any adjustments, please let me know.\n"
     ]
    }
   ],
   "source": [
    "output = chatgpt_chain.predict(\n",
    "    human_input=\"You can suggest these yourself\")\n",
    "print(output)"
   ]
  },
  {
   "cell_type": "code",
   "execution_count": 10,
   "metadata": {},
   "outputs": [
    {
     "name": "stdout",
     "output_type": "stream",
     "text": [
      "Great! I'll proceed with creating the .geo file for the wheel and axle using the provided dimensions.\n",
      "\n",
      "//BEGIN_GEO\n",
      "```\n",
      "// Switch to OpenCASCADE geometry kernel\n",
      "SetFactory(\"OpenCASCADE\");\n",
      "\n",
      "// Define the Dimensions\n",
      "L_axle = 20; // Length of the axle in cm\n",
      "R_axle = 1;  // Radius of the axle in cm\n",
      "R_wheel = 5; // Radius of the wheels in cm\n",
      "T_wheel = 2; // Thickness of the wheels in cm\n",
      "\n",
      "// Define the Axle\n",
      "// The axle is a cylinder centered at the origin and extending along the z-axis\n",
      "Cylinder(1) = {0, 0, -L_axle/2, 0, 0, L_axle, R_axle};\n",
      "\n",
      "// Define the Wheels\n",
      "// The first wheel is at the negative end of the axle\n",
      "Cylinder(2) = {0, 0, -L_axle/2 - T_wheel, 0, 0, T_wheel, R_wheel};\n",
      "\n",
      "// The second wheel is at the positive end of the axle\n",
      "Cylinder(3) = {0, 0, L_axle/2, 0, 0, T_wheel, R_wheel};\n",
      "\n",
      "// Define Physical Groups for Boundaries\n",
      "Physical Volume(\"Axle\") = {1};\n",
      "Physical Volume(\"Wheel1\") = {2};\n",
      "Physical Volume(\"Wheel2\") = {3};\n",
      "```\n",
      "\n",
      "//END_GEO\n",
      "\n",
      "This .geo file defines a simple wheel and axle geometry with the specified dimensions. The axle is a cylinder centered at the origin and extending along the z-axis, and the wheels are cylinders located at the two ends of the axle. Physical groups are defined for easy identification of the axle and wheels in the simulation software.\n",
      "\n",
      "If you need any modifications or additional details, please let me know!\n"
     ]
    }
   ],
   "source": [
    "output = chatgpt_chain.predict(\n",
    "    human_input=\"Sure go ahead\")\n",
    "print(output)"
   ]
  },
  {
   "cell_type": "code",
   "execution_count": 11,
   "metadata": {},
   "outputs": [
    {
     "name": "stdout",
     "output_type": "stream",
     "text": [
      "Certainly! To create a unified volume for the wheel and axle, we need to ensure that the cylinders are fused together into a single volume. I'll modify the .geo file to achieve this.\n",
      "\n",
      "//BEGIN_GEO\n",
      "```\n",
      "// Switch to OpenCASCADE geometry kernel\n",
      "SetFactory(\"OpenCASCADE\");\n",
      "\n",
      "// Define the Dimensions\n",
      "L_axle = 20; // Length of the axle in cm\n",
      "R_axle = 1;  // Radius of the axle in cm\n",
      "R_wheel = 5; // Radius of the wheels in cm\n",
      "T_wheel = 2; // Thickness of the wheels in cm\n",
      "\n",
      "// Define the Axle\n",
      "// The axle is a cylinder centered at the origin and extending along the z-axis\n",
      "Axle = Cylinder(1) = {0, 0, -L_axle/2, 0, 0, L_axle, R_axle};\n",
      "\n",
      "// Define the Wheels\n",
      "// The first wheel is at the negative end of the axle\n",
      "Wheel1 = Cylinder(2) = {0, 0, -L_axle/2 - T_wheel, 0, 0, T_wheel, R_wheel};\n",
      "\n",
      "// The second wheel is at the positive end of the axle\n",
      "Wheel2 = Cylinder(3) = {0, 0, L_axle/2, 0, 0, T_wheel, R_wheel};\n",
      "\n",
      "// Fuse the Axle and Wheels into a single volume\n",
      "UnifiedVolume() = BooleanUnion{ Volume{Axle}; Delete; }{ Volume{Wheel1}; Delete; Volume{Wheel2}; Delete; };\n",
      "\n",
      "// Define Physical Groups for Boundaries\n",
      "Physical Volume(\"UnifiedWheelAndAxle\") = {UnifiedVolume()};\n",
      "```\n",
      "\n",
      "//END_GEO\n",
      "\n",
      "This .geo file now defines a unified volume for the wheel and axle, ensuring that the geometry is not disjointed and is suitable for meshing as a single entity. The `BooleanUnion` operation fuses the axle and wheels into one volume, and a physical group is defined for the unified volume.\n",
      "\n",
      "If you need any further modifications or additional details, please let me know!\n"
     ]
    }
   ],
   "source": [
    "output = chatgpt_chain.predict(\n",
    "    human_input=\"Can i have it also as one unified volume so its not disjointed for future for meshing\")\n",
    "print(output)"
   ]
  },
  {
   "cell_type": "code",
   "execution_count": 12,
   "metadata": {},
   "outputs": [
    {
     "name": "stdout",
     "output_type": "stream",
     "text": [
      "wheel_axle_gpt_4o.geo file saved\n",
      "Visualize .geo files with GMSH\n"
     ]
    }
   ],
   "source": [
    "extract_and_save_geo_file(output)"
   ]
  },
  {
   "cell_type": "code",
   "execution_count": 13,
   "metadata": {},
   "outputs": [
    {
     "name": "stdout",
     "output_type": "stream",
     "text": [
      "I apologize for the oversight. Let's correct the syntax errors and ensure that the variable names are consistent. Here is the revised .geo file:\n",
      "\n",
      "//BEGIN_GEO\n",
      "```\n",
      "// Switch to OpenCASCADE geometry kernel\n",
      "SetFactory(\"OpenCASCADE\");\n",
      "\n",
      "// Define the Dimensions\n",
      "L_axle = 20; // Length of the axle in cm\n",
      "R_axle = 1;  // Radius of the axle in cm\n",
      "R_wheel = 5; // Radius of the wheels in cm\n",
      "T_wheel = 2; // Thickness of the wheels in cm\n",
      "\n",
      "// Define the Axle\n",
      "// The axle is a cylinder centered at the origin and extending along the z-axis\n",
      "Axle = Cylinder(1) = {0, 0, -L_axle/2, 0, 0, L_axle, R_axle};\n",
      "\n",
      "// Define the Wheels\n",
      "// The first wheel is at the negative end of the axle\n",
      "Wheel1 = Cylinder(2) = {0, 0, -L_axle/2 - T_wheel, 0, 0, T_wheel, R_wheel};\n",
      "\n",
      "// The second wheel is at the positive end of the axle\n",
      "Wheel2 = Cylinder(3) = {0, 0, L_axle/2, 0, 0, T_wheel, R_wheel};\n",
      "\n",
      "// Fuse the Axle and Wheels into a single volume\n",
      "UnifiedVolume() = BooleanUnion{ Volume{1}; Delete; }{ Volume{2}; Delete; Volume{3}; Delete; };\n",
      "\n",
      "// Define Physical Groups for Boundaries\n",
      "Physical Volume(\"UnifiedWheelAndAxle\") = {1};\n",
      "```\n",
      "\n",
      "//END_GEO\n",
      "\n",
      "This corrected .geo file should now properly define the wheel and axle as a unified volume, with the correct syntax and variable names. If you need any further modifications or additional details, please let me know!\n"
     ]
    }
   ],
   "source": [
    "output = chatgpt_chain.predict(\n",
    "    human_input=\"you have syntax errors on the cylinders and unknown variable names\")\n",
    "print(output)"
   ]
  },
  {
   "cell_type": "code",
   "execution_count": 14,
   "metadata": {},
   "outputs": [
    {
     "name": "stdout",
     "output_type": "stream",
     "text": [
      "wheel_axle_gpt_4o_rectified_1.geo file saved\n",
      "Visualize .geo files with GMSH\n"
     ]
    }
   ],
   "source": [
    "extract_and_save_geo_file(output,PROJECT_NAME='wheel_axle_gpt_4o_rectified_1')"
   ]
  },
  {
   "cell_type": "code",
   "execution_count": null,
   "metadata": {},
   "outputs": [],
   "source": [
    "output = chatgpt_chain.predict(\n",
    "    human_input=\"Can you consider that i want one unified and non disjointed volume so i can mesh for one single system\")\n",
    "print(output)"
   ]
  },
  {
   "cell_type": "code",
   "execution_count": null,
   "metadata": {},
   "outputs": [],
   "source": [
    "extract_and_save_geo_file(output,PROJECT_NAME='wheel_axle_gpt_4o_rectified_2')"
   ]
  },
  {
   "cell_type": "code",
   "execution_count": null,
   "metadata": {},
   "outputs": [],
   "source": [
    "output = chatgpt_chain.predict(\n",
    "    human_input=\"I got some syntax errors with (cylinder) and some, also an error regarding unknown OpenCascade entity of dimension 3 and tag 1, also there was an error saying could not apply boolean operator\")\n",
    "print(output)"
   ]
  },
  {
   "cell_type": "code",
   "execution_count": null,
   "metadata": {},
   "outputs": [],
   "source": [
    "extract_and_save_geo_file(output,PROJECT_NAME='wheel_axle_gpt_4o_rectified_1')"
   ]
  },
  {
   "cell_type": "code",
   "execution_count": null,
   "metadata": {},
   "outputs": [],
   "source": [
    "generate_mesh(Mesh_Min_Size = 0.1, Mesh_Max_Size = 0.5,PROJECT_NAME='wheel_axle_gpt_4o_rectified_1')"
   ]
  },
  {
   "cell_type": "code",
   "execution_count": null,
   "metadata": {},
   "outputs": [],
   "source": []
  }
 ],
 "metadata": {
  "kernelspec": {
   "display_name": "Python 3 (ipykernel)",
   "language": "python",
   "name": "python3"
  },
  "language_info": {
   "codemirror_mode": {
    "name": "ipython",
    "version": 3
   },
   "file_extension": ".py",
   "mimetype": "text/x-python",
   "name": "python",
   "nbconvert_exporter": "python",
   "pygments_lexer": "ipython3",
   "version": "3.11.4"
  }
 },
 "nbformat": 4,
 "nbformat_minor": 2
}
