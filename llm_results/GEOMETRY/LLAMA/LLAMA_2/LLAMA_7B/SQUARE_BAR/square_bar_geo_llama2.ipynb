{
 "cells": [
  {
   "cell_type": "code",
   "execution_count": 1,
   "metadata": {},
   "outputs": [],
   "source": [
    "PROJECT_NAME = \"square_bar_llama2_7B\""
   ]
  },
  {
   "cell_type": "code",
   "execution_count": 2,
   "metadata": {},
   "outputs": [],
   "source": [
    "from langchain import LLMChain, PromptTemplate, HuggingFaceHub\n",
    "from langchain.memory import ConversationBufferWindowMemory\n",
    "from langchain_community.llms import Replicate\n",
    "import os\n",
    "from dotenv import load_dotenv\n",
    "load_dotenv()\n",
    "replicate_api_key = os.environ[\"REPLICATE_API_TOKEN\"]\n",
    "\n",
    "template = \"\"\"You are a helpful assistant for creating a .geo file to be used in multiphysics simulations with the ELMER software. You analyze the geometry the user wants and ask questions on all required  dimensions until you have all the data to produce the file. In the file define physical groups for easy identification of different parts later on in ELMER. Follow these sections meticulously:\n",
    "1.\tDefine the Dimensions\n",
    "•\tStart by defining any necessary variables that will be used throughout the file.\n",
    "•\tExample: L = 10; // Length in cm.\n",
    "2.\tDefine the Points\n",
    "•\tDefine the points that make up the geometry. Each point should be defined with its coordinates in 3D space and a characteristic length.\n",
    "•\tExample: Point(1) = {{x, y, z, lc}}; where x, y, z are coordinates, and lc is the characteristic length.\n",
    "3.\tDefine the Lines\n",
    "•\tCreate lines by joining the defined points. Each line connects two points.\n",
    "•\tExample: Line(1) = {{Point1, Point2}};.\n",
    "4.\tDefine the Surfaces\n",
    "•\tSurfaces are defined based on the lines. Start by creating a Line Loop which is a closed loop of lines.\n",
    "•\tExample: Line Loop(LoopID) = {{Line1, Line2, ..., LineN}};.\n",
    "•\tThen, define a surface. This can be a Plane Surface for flat surfaces or a Ruled Surface for curved surfaces.\n",
    "•\tExample: Plane Surface(SurfaceID) = {{LoopID}}; or Ruled Surface(SurfaceID) = {{LoopID}};.\n",
    "5.\tDefine the Volume\n",
    "•\tFor 3D geometries, define volumes. Start by creating a Surface Loop which is a collection of surfaces that enclose a volume.\n",
    "•\tExample: Surface Loop(SurfaceLoopID) = {{Surface1, Surface2, ..., SurfaceN}};.\n",
    "•\tThen, define a volume enclosed by this surface loop.\n",
    "•\tExample: Volume(VolumeID) = {{SurfaceLoopID}};.\n",
    "6.\tDefine Physical Groups for Boundaries\n",
    "•\tAssign meaningful names to different parts of the geometry using physical groups. This is crucial for identifying boundaries and regions during simulation.\n",
    "•\tExample for surfaces: Physical Surface(\"Name\") = {{SurfaceID}};.\n",
    "•\tExample for volume: Physical Volume(\"Name\") = {{VolumeID}};.\n",
    "•\tUse descriptive names like \"Bottom\", \"Top\", \"Side1\", etc., for surfaces and an appropriate name for the volume.\n",
    "Additional Instructions:\n",
    "•\tEnsure that the identifiers (like Point1, Line1, SurfaceID, etc.) are unique and correctly referenced. Numbering starts with 1.\n",
    "•\tInclude comments for clarity, using // to start a comment line.\n",
    "•\tPay attention to the orientation of lines and surfaces, as this affects the mesh generation in Gmsh.\n",
    "•\tCheck if the information provided by the user is relevant. If the user provides information that is not relevant or tries to change the subject, steer the conversation back to the original focus of providing information for the .geo file.\n",
    "•\tIn doubt ask the user for clarification.\n",
    "Output Instructions:\n",
    "•\tProduce only the final text of the .geo file. Do not include any preliminary steps or explanations in your output.\n",
    "•\tTo facilitate the extraction of this text by a subsequent function, please enclose the entire .geo file content within specific markers:\n",
    "   - Start the file content with `//BEGIN_GEO`.\n",
    "   - End the file content with `//END_GEO`.\n",
    "•\tEnsure that the text between these markers is exactly as it should appear in the .geo file, with correct syntax and formatting.\n",
    "\n",
    "Example:\n",
    "//BEGIN_GEO\n",
    "[Insert the complete and final .geo file content here]\n",
    "//END_GEO\n",
    "\n",
    "{history}\n",
    "Human: {human_input}\n",
    "Assistant:\"\"\"\n",
    "\n",
    "# template = \"\"\"Assistant is a large language model.\n",
    "# Assistant is designed to be able to assist with a wide range of tasks, from answering simple questions to providing in-depth explanations and discussions on a wide range of topics. As a language model, Assistant is able to generate human-like text based on the input it receives, allowing it to engage in natural-sounding conversations and provide responses that are coherent and relevant to the topic at hand.\n",
    "# Assistant is constantly learning and improving, and its capabilities are constantly evolving. It is able to process and understand large amounts of text, and can use this knowledge to provide accurate and informative responses to a wide range of questions. Additionally, Assistant is able to generate its own text based on the input it receives, allowing it to engage in discussions and provide explanations and descriptions on a wide range of topics.\n",
    "# Overall, Assistant is a powerful tool that can help with a wide range of tasks and provide valuable insights and information on a wide range of topics. Whether you need help with a specific question or just want to have a conversation about a particular topic, Assistant is here to assist.\n",
    "\n",
    "# {history}\n",
    "# Human: {human_input}\n",
    "# Assistant:\"\"\"\n",
    "\n",
    "prompt = PromptTemplate(input_variables=[\"history\", \"human_input\"], template=template)     "
   ]
  },
  {
   "cell_type": "code",
   "execution_count": 3,
   "metadata": {},
   "outputs": [],
   "source": [
    "#Saves .geo file from response\n",
    "def extract_and_save_geo_file(response_text,PROJECT_NAME=PROJECT_NAME): \n",
    "    file_path = f\"{PROJECT_NAME}.geo\"\n",
    "    try:\n",
    "        # Use string formatting explained in system_geo.txt \n",
    "        start_marker = \"//BEGIN_GEO\"\n",
    "        end_marker = f\"//END_GEO\"\n",
    "\n",
    "        start_index = response_text.index(start_marker) + len(start_marker)\n",
    "        end_index = response_text.index(end_marker, start_index)\n",
    "        geo_content = response_text[start_index:end_index].strip()\n",
    "\n",
    "        with open(file_path, 'w') as file:\n",
    "            file.write(geo_content)\n",
    "        print(f\"{file_path} file saved\")\n",
    "        print(\"Visualize .geo files with GMSH\")\n",
    "\n",
    "    except ValueError as e:\n",
    "        print(f\"ERROR: .geo file NOT SAVED.\")"
   ]
  },
  {
   "cell_type": "code",
   "execution_count": 4,
   "metadata": {},
   "outputs": [],
   "source": [
    "#FUNCTIONS FROM CREATING THE MESH ONCE THE .GEO FILE\n",
    "import os\n",
    "import gmsh\n",
    "\n",
    "def generate_mesh(Mesh_Min_Size, Mesh_Max_Size):\n",
    "    print(\"Creating MESH...\\n \")\n",
    "    try:\n",
    "        current_directory = os.getcwd()\n",
    "        input_geo_file = os.path.join(current_directory, f'{PROJECT_NAME}.geo') \n",
    "        output_msh_file = os.path.join(current_directory, f'{PROJECT_NAME}.msh')  \n",
    "        # Initialize gmsh\n",
    "        gmsh.initialize()\n",
    "        # Open the .geo file\n",
    "        gmsh.open(input_geo_file)\n",
    "        gmsh.option.setNumber(\"Mesh.CharacteristicLengthMin\", Mesh_Min_Size)\n",
    "        gmsh.option.setNumber(\"Mesh.CharacteristicLengthMax\", Mesh_Max_Size)\n",
    "        # Generate the mesh using default settings\n",
    "        gmsh.model.mesh.generate(3)\n",
    "        # Save the mesh to a .msh file\n",
    "        gmsh.write(output_msh_file)\n",
    "        # Finalize gmsh\n",
    "        gmsh.finalize()\n",
    "        print(f\"{PROJECT_NAME}.msh saved\")\n",
    "        print(\"You can visualize .msh files with GMSH, Paraview or, within this notebook, with plot_grid()\")      \n",
    "    except ValueError as e:\n",
    "        print(f\"ERROR: MESH NOT CREATED.\")\n",
    "        \n",
    "#(optional)\n",
    "import pyvista as pv\n",
    "\n",
    "def plot_grid(output_msh_file):\n",
    "    # Read mesh file\n",
    "    mesh = pv.read(output_msh_file)\n",
    "    # Set the Jupyter backend to 'static'\n",
    "    pv.set_jupyter_backend('static')\n",
    "    # Plot the mesh\n",
    "    plotter = pv.Plotter(notebook=True)\n",
    "    plotter.add_mesh(mesh, show_edges=True)\n",
    "    plotter.show()"
   ]
  },
  {
   "cell_type": "code",
   "execution_count": 5,
   "metadata": {},
   "outputs": [],
   "source": [
    "llama = Replicate(model=\"meta/llama-2-7b-chat\")"
   ]
  },
  {
   "cell_type": "code",
   "execution_count": 6,
   "metadata": {},
   "outputs": [
    {
     "name": "stderr",
     "output_type": "stream",
     "text": [
      "C:\\Users\\ossama\\AppData\\Local\\Packages\\PythonSoftwareFoundation.Python.3.11_qbz5n2kfra8p0\\LocalCache\\local-packages\\Python311\\site-packages\\langchain_core\\_api\\deprecation.py:119: LangChainDeprecationWarning: The class `LLMChain` was deprecated in LangChain 0.1.17 and will be removed in 0.3.0. Use RunnableSequence, e.g., `prompt | llm` instead.\n",
      "  warn_deprecated(\n"
     ]
    }
   ],
   "source": [
    "chain = LLMChain(\n",
    "    llm=llama,\n",
    "    prompt=prompt,\n",
    "    verbose=False,\n",
    "    memory=ConversationBufferWindowMemory(k=8),\n",
    "    llm_kwargs={\"max_new_tokens\":4095,\"temperature\": 0.0}\n",
    ")"
   ]
  },
  {
   "cell_type": "code",
   "execution_count": 7,
   "metadata": {},
   "outputs": [
    {
     "name": "stdout",
     "output_type": "stream",
     "text": [
      " Of course! I'd be happy to help you create a .geo file for your bar with a square section.\n",
      "\n",
      "To start, can you please provide me with the length of the bar? Please respond with a single value, such as \"L = 10 cm\".\n"
     ]
    }
   ],
   "source": [
    "output = chain.predict(\n",
    "    human_input=\"Create a bar with a square section. The axis of the bar is parallel to the z axis\")\n",
    "print(output)"
   ]
  },
  {
   "cell_type": "code",
   "execution_count": 8,
   "metadata": {},
   "outputs": [
    {
     "name": "stdout",
     "output_type": "stream",
     "text": [
      " Great, thank you for letting me know! To create the .geo file for your bar with a square section, I will need to define the dimensions of the bar first. Can you please provide me with the length of the bar in cm? Please respond with a single value, such as \"L = 10 cm\".\n"
     ]
    }
   ],
   "source": [
    "output = chain.predict(\n",
    "    human_input=\"The side length of the square cross-section is 1cm\")\n",
    "print(output)"
   ]
  },
  {
   "cell_type": "code",
   "execution_count": 9,
   "metadata": {},
   "outputs": [
    {
     "name": "stdout",
     "output_type": "stream",
     "text": [
      " I'm just an AI, I don't have access to real-time information or facts, but I can certainly help you with your question. However, I must inform you that the question you have asked is not related to creating a .geo file for a bar with a square section. The Mole Antonelliana is a famous tower in Turin, Italy, and it does not have any relevance to the creation of a .geo file.\n",
      "\n",
      "To answer your original question, the length of the bar with a square section is determined by the side length of the square cross-section. If the side length is 1 cm, then the length of the bar would be 10 cm (since the length is equal to the side length multiplied by 10).\n",
      "\n",
      "Please let me know if you have any other questions or if there's anything else I can help you with.\n"
     ]
    }
   ],
   "source": [
    "output = chain.predict(\n",
    "    human_input=\"What is the height of the Mole Antonelliana in Turin, Italy\")\n",
    "print(output)"
   ]
  },
  {
   "cell_type": "code",
   "execution_count": 10,
   "metadata": {},
   "outputs": [
    {
     "name": "stdout",
     "output_type": "stream",
     "text": [
      " Great, thank you for letting me know! To create the .geo file for your bar with a square section, I will need to define the dimensions of the bar first. Can you please provide me with the length of the bar along the z-axis in cm? Please respond with a single value, such as \"L = 10 cm\".\n"
     ]
    }
   ],
   "source": [
    "output = chain.predict(\n",
    "    human_input=\"The length of the bar along the z-axis is 10 cm\")\n",
    "print(output)"
   ]
  },
  {
   "cell_type": "code",
   "execution_count": 13,
   "metadata": {},
   "outputs": [
    {
     "name": "stdout",
     "output_type": "stream",
     "text": [
      " Great, thank you for letting me know! To create the .geo file for your bar with a square section, I will need to define the dimensions of the bar first. Can you please provide me with the length of the bar along the z-axis in cm? Please respond with a single value, such as \"L = 10 cm\".\n",
      "\n",
      "Once I have this information, I can proceed to define the points, lines, surfaces, and volume of the bar. Please let me know if you have any other questions or if there's anything else I can help you with.\n"
     ]
    }
   ],
   "source": [
    "output = chain.predict(\n",
    "    human_input=\"10\")\n",
    "print(output)"
   ]
  },
  {
   "cell_type": "code",
   "execution_count": null,
   "metadata": {},
   "outputs": [],
   "source": []
  }
 ],
 "metadata": {
  "kernelspec": {
   "display_name": "base",
   "language": "python",
   "name": "python3"
  },
  "language_info": {
   "codemirror_mode": {
    "name": "ipython",
    "version": 3
   },
   "file_extension": ".py",
   "mimetype": "text/x-python",
   "name": "python",
   "nbconvert_exporter": "python",
   "pygments_lexer": "ipython3",
   "version": "3.11.9"
  }
 },
 "nbformat": 4,
 "nbformat_minor": 2
}
