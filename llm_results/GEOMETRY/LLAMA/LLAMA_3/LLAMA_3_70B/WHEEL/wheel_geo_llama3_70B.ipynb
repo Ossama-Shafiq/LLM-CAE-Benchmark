{
 "cells": [
  {
   "cell_type": "code",
   "execution_count": 12,
   "metadata": {},
   "outputs": [],
   "source": [
    "PROJECT_NAME = \"wheel_llama3_70B\""
   ]
  },
  {
   "cell_type": "code",
   "execution_count": 2,
   "metadata": {},
   "outputs": [],
   "source": [
    "from langchain import LLMChain, PromptTemplate\n",
    "from langchain.memory import ConversationBufferWindowMemory\n",
    "from langchain_community.llms import Replicate\n",
    "from langchain_groq import ChatGroq\n",
    "import os\n",
    "from dotenv import load_dotenv\n",
    "load_dotenv()\n",
    "replicate_api_key = os.environ[\"REPLICATE_API_TOKEN\"]\n",
    "groq_api_key = os.environ[\"GROQ_API_TOKEN\"]\n",
    "\n",
    "template = \"\"\"You are a helpful assistant for creating a .geo file to be used in multiphysics simulations with software like ELMER or Gmsh. Your task is to analyze the geometry the user wants and ask questions about all required dimensions until you have all the data to produce the file. In the file, define physical groups for easy identification of different parts later on in the simulation software. Follow these sections meticulously:\n",
    "1.\tStart with OpenCASCADE Geometry Kernel\n",
    "•\tBegin the file by switching to the OpenCASCADE geometry kernel with\n",
    "// Switch to OpenCASCADE geometry kernel\n",
    "SetFactory(\"OpenCASCADE\");\n",
    "•\tRemember, OpenCASCADE primitives automatically create their defining points.\n",
    "2.\tDefine the Dimensions\n",
    "•\tStart by defining any necessary variables that will be used throughout the file.\n",
    "•\tExample: L = 10; // Length in cm.\n",
    "3.\tDefine the Points\n",
    "•\tDefine the points that make up the geometry. Each point should be defined with its coordinates in 3D space and a characteristic length.\n",
    "•\tExample: Point(1) = {{x, y, z, lc}}; where x, y, z are coordinates, and lc is the characteristic length.\n",
    "4.\tDefine Lines\n",
    "•\tCreate lines by joining the defined points. Each line connects two points.\n",
    "•\tExample: Line(1) = {{Point1, Point2}};\n",
    "5.\tDefine Circles\n",
    "•\tCreate circles by defining three points: the start point, center point, and end point.\n",
    "•\tExample: Circle(1) = {{Point1, CenterPoint, Point2}};\n",
    "6.\tDefine Cylinders\n",
    "•\tUse cylinders for simple cylindrical shapes.\n",
    "•\tExample: Cylinder(1) = {{x1, y1, z1, Dx, Dy, Dz, r}}; where x1, y1, z1 define the base center of the cylinder, Dx, Dy, Dz represent the relative displacement from the base center to the top center, and r is the radius of the cylinder.\n",
    "7.\tDefine Spheres\n",
    "•\tUse spheres for simple spherical shapes.\n",
    "•\tExample: Sphere(1) = {{x, y, z, r}}; where x, y, z define the center and r is the radius.\n",
    "8.\tDefine Boxes\n",
    "•\tUse boxes for simple rectangular or cubic shapes.\n",
    "•\tExample: Box(1) = {{x1, y1, z1, dx, dy, dz}}; where x1, y1, z1 define the corner and dx, dy, dz define the dimensions.\n",
    "9.\tDefine Cones\n",
    "•\tUse cones for simple conical shapes.\n",
    "•\tExample: Cone(1) = {{x1, y1, z1, r1, x2, y2, z2, r2}}; where x1, y1, z1, r1 define the base and x2, y2, z2, r2 define the top.\n",
    "10.\tDefine Extrusions and Revolutions\n",
    "•\tUse extrusions or revolutions for shapes that can be formed by extending or rotating a 2D profile.\n",
    "•\tExtrusion Example: Extrude {{dx, dy, dz}} {{Surface{{1}}; Layers{{N}}; Recombine;}};\n",
    "•\tRevolution Example: Rotate {{Axis{{ax, ay, az}}, Point{{px, py, pz}}, Angle{{theta}};}} {{Surface{{1}}; Layers{{N}}; Recombine;}};\n",
    "11.\tDefine the Surfaces\n",
    "•\tSurfaces are defined based on the lines or curves. Start by creating a Line Loop which is a closed loop of lines.\n",
    "•\tExample: Line Loop(LoopID) = {{Line1, Line2, ..., LineN}};\n",
    "•\tThen, define a surface. This can be a Plane Surface for flat surfaces or a Ruled Surface for curved surfaces.\n",
    "•\tExample: Plane Surface(SurfaceID) = {{LoopID}}; or Ruled Surface(SurfaceID) = {{LoopID}};\n",
    "12.\tDefine the Volume\n",
    "•\tFor 3D geometries, define volumes. Start by creating a Surface Loop which is a collection of surfaces that enclose a volume.\n",
    "•\tExample: Surface Loop(SurfaceLoopID) = {{Surface1, Surface2, ..., SurfaceN}};\n",
    "•\tThen, define a volume enclosed by this surface loop.\n",
    "•\tExample: Volume(VolumeID) = {{SurfaceLoopID}};\n",
    "13.\tDefine Physical Groups for Boundaries\n",
    "•\tAssign meaningful names to different parts of the geometry using physical groups. This is crucial for identifying boundaries and regions during simulation.\n",
    "•\tExample for surfaces: Physical Surface(\"Name\") = {{SurfaceID}};\n",
    "•\tExample for volume: Physical Volume(\"Name\") = {{VolumeID}};\n",
    "•\tUse descriptive names like \"Bottom\", \"Top\", \"Side1\", etc., for surfaces and an appropriate name for the volume.\n",
    "Normally geometries do not require all these sections to be defined. Always aim for the simplest approach to model the geometry. If there are multiple ways to create a shape, choose the simplest one.  \n",
    "Additional Instructions:\n",
    "•\tEnsure that the identifiers (like Point1, Line1, SurfaceID, etc.) are unique and correctly referenced. Numbering starts with 1.\n",
    "•\tCheck that all points used in Line, Circle, etc., do exist in the Point list.\n",
    "•\tInclude comments for clarity, using // to start a comment line.\n",
    "•\tPay attention to the orientation of lines and surfaces, as this affects the mesh generation in Gmsh.\n",
    "•\tVerify the geometric consistency: Ensure that the dimensions, positions, and connections of elements are logical and physically plausible.\n",
    "•\tIn doubt, ask the user for clarification.\n",
    "•\tIf the user provides information that is not relevant or tries to change the subject, steer the conversation back to the original focus of providing information for the .geo file.\n",
    "Output Instructions:\n",
    "•\tTo facilitate the extraction of this text by a subsequent function, please enclose the entire .geo file content within specific markers:\n",
    "•\tStart the file content with //BEGIN_GEO.\n",
    "•\tEnd the file content with //END_GEO.\n",
    "•\tEnsure that the text between these markers is exactly as it should appear in the .geo file, with correct syntax and formatting.\n",
    "Example:\n",
    "//BEGIN_GEO\n",
    "// Switch to OpenCASCADE geometry kernel\n",
    "SetFactory(\"OpenCASCADE\");\n",
    "[Insert the complete and final .geo file content here]\n",
    "//END_GEO\n",
    "\n",
    "{history}\n",
    "Human: {human_input}\n",
    "Assistant:\"\"\"\n",
    "\n",
    "prompt = PromptTemplate(input_variables=[\"history\", \"human_input\"], template=template)     "
   ]
  },
  {
   "cell_type": "code",
   "execution_count": 13,
   "metadata": {},
   "outputs": [],
   "source": [
    "#Saves .geo file from response\n",
    "def extract_and_save_geo_file(response_text,PROJECT_NAME=PROJECT_NAME): \n",
    "    file_path = f\"{PROJECT_NAME}.geo\"\n",
    "    try:\n",
    "        # Use string formatting explained in system_geo.txt \n",
    "        start_marker = \"//BEGIN_GEO\"\n",
    "        end_marker = f\"//END_GEO\"\n",
    "\n",
    "        start_index = response_text.index(start_marker) + len(start_marker)\n",
    "        end_index = response_text.index(end_marker, start_index)\n",
    "        geo_content = response_text[start_index:end_index].strip()\n",
    "\n",
    "        with open(file_path, 'w') as file:\n",
    "            file.write(geo_content)\n",
    "        print(f\"{file_path} file saved\")\n",
    "        print(\"Visualize .geo files with GMSH\")\n",
    "\n",
    "    except ValueError as e:\n",
    "        print(f\"ERROR: .geo file NOT SAVED.\")"
   ]
  },
  {
   "cell_type": "code",
   "execution_count": 14,
   "metadata": {},
   "outputs": [],
   "source": [
    "#FUNCTIONS FROM CREATING THE MESH ONCE THE .GEO FILE\n",
    "import os\n",
    "import gmsh\n",
    "\n",
    "def generate_mesh(Mesh_Min_Size, Mesh_Max_Size):\n",
    "    print(\"Creating MESH...\\n \")\n",
    "    try:\n",
    "        current_directory = os.getcwd()\n",
    "        input_geo_file = os.path.join(current_directory, f'{PROJECT_NAME}.geo') \n",
    "        output_msh_file = os.path.join(current_directory, f'{PROJECT_NAME}.msh')  \n",
    "        # Initialize gmsh\n",
    "        gmsh.initialize()\n",
    "        # Open the .geo file\n",
    "        gmsh.open(input_geo_file)\n",
    "        gmsh.option.setNumber(\"Mesh.CharacteristicLengthMin\", Mesh_Min_Size)\n",
    "        gmsh.option.setNumber(\"Mesh.CharacteristicLengthMax\", Mesh_Max_Size)\n",
    "        # Generate the mesh using default settings\n",
    "        gmsh.model.mesh.generate(3)\n",
    "        # Save the mesh to a .msh file\n",
    "        gmsh.write(output_msh_file)\n",
    "        # Finalize gmsh\n",
    "        gmsh.finalize()\n",
    "        print(f\"{PROJECT_NAME}.msh saved\")\n",
    "        print(\"You can visualize .msh files with GMSH, Paraview or, within this notebook, with plot_grid()\")      \n",
    "    except ValueError as e:\n",
    "        print(f\"ERROR: MESH NOT CREATED.\")\n",
    "        \n",
    "#(optional)\n",
    "import pyvista as pv\n",
    "\n",
    "def plot_grid(output_msh_file):\n",
    "    # Read mesh file\n",
    "    mesh = pv.read(output_msh_file)\n",
    "    # Set the Jupyter backend to 'static'\n",
    "    pv.set_jupyter_backend('static')\n",
    "    # Plot the mesh\n",
    "    plotter = pv.Plotter(notebook=True)\n",
    "    plotter.add_mesh(mesh, show_edges=True)\n",
    "    plotter.show()"
   ]
  },
  {
   "cell_type": "code",
   "execution_count": 5,
   "metadata": {},
   "outputs": [],
   "source": [
    "# llama3 = Replicate(model=\"meta/meta-llama-3-70b\")\n",
    "llama3 = ChatGroq(temperature=0,groq_api_key=groq_api_key, model_name=\"llama3-70b-8192\")"
   ]
  },
  {
   "cell_type": "code",
   "execution_count": 6,
   "metadata": {},
   "outputs": [
    {
     "name": "stderr",
     "output_type": "stream",
     "text": [
      "C:\\Users\\ossama\\AppData\\Local\\Packages\\PythonSoftwareFoundation.Python.3.11_qbz5n2kfra8p0\\LocalCache\\local-packages\\Python311\\site-packages\\langchain_core\\_api\\deprecation.py:119: LangChainDeprecationWarning: The class `LLMChain` was deprecated in LangChain 0.1.17 and will be removed in 0.3.0. Use RunnableSequence, e.g., `prompt | llm` instead.\n",
      "  warn_deprecated(\n"
     ]
    }
   ],
   "source": [
    "chain = LLMChain(\n",
    "    llm=llama3,\n",
    "    prompt=prompt,\n",
    "    verbose=False,\n",
    "    memory=ConversationBufferWindowMemory(k=8),\n",
    "    llm_kwargs={\"max_tokens\":4096,\"temperature\": 0.00}\n",
    ")"
   ]
  },
  {
   "cell_type": "code",
   "execution_count": 7,
   "metadata": {},
   "outputs": [
    {
     "name": "stdout",
     "output_type": "stream",
     "text": [
      "Let's create a simple wheel and axle geometry. Since both the wheels and axle are cylinders, we can use the `Cylinder` primitive to define them.\n",
      "\n",
      "To start, can you please provide me with the following dimensions:\n",
      "\n",
      "1. The radius of the wheels?\n",
      "2. The height of the wheels?\n",
      "3. The radius of the axle?\n",
      "4. The length of the axle?\n",
      "5. The distance between the centers of the wheels (i.e., the length of the axle plus the radius of a wheel on each side)?\n",
      "\n",
      "Once I have these dimensions, I can help you create the .geo file for your wheel and axle geometry.\n"
     ]
    }
   ],
   "source": [
    "output = chain.predict(\n",
    "    human_input=\"Create a wheel and axle. Keep it simple. Assume that both Wheels and axle are cylinders.The wheels are located at the two ends of the axle. The axis of all cylinders is parallel to the z axis\")\n",
    "print(output)"
   ]
  },
  {
   "cell_type": "code",
   "execution_count": 8,
   "metadata": {},
   "outputs": [
    {
     "name": "stdout",
     "output_type": "stream",
     "text": [
      "Let's assume some reasonable dimensions for the wheel and axle. We can always adjust them later if needed.\n",
      "\n",
      "Let's say:\n",
      "\n",
      "1. The radius of the wheels is 5 cm.\n",
      "2. The height of the wheels is 2 cm.\n",
      "3. The radius of the axle is 1 cm.\n",
      "4. The length of the axle is 20 cm.\n",
      "5. The distance between the centers of the wheels is 24 cm (i.e., the length of the axle plus the radius of a wheel on each side).\n",
      "\n",
      "With these dimensions, I can start creating the .geo file for your wheel and axle geometry.\n",
      "\n",
      "Please confirm if these dimensions are acceptable, or if you'd like to change any of them.\n"
     ]
    }
   ],
   "source": [
    "output = chain.predict(\n",
    "    human_input=\"You can suggest these yourself\")\n",
    "print(output)"
   ]
  },
  {
   "cell_type": "code",
   "execution_count": 9,
   "metadata": {},
   "outputs": [
    {
     "name": "stdout",
     "output_type": "stream",
     "text": [
      "Let's create the .geo file for the wheel and axle geometry.\n",
      "\n",
      "//BEGIN_GEO\n",
      "// Switch to OpenCASCADE geometry kernel\n",
      "SetFactory(\"OpenCASCADE\");\n",
      "\n",
      "// Define dimensions\n",
      "wheel_radius = 5; // cm\n",
      "wheel_height = 2; // cm\n",
      "axle_radius = 1; // cm\n",
      "axle_length = 20; // cm\n",
      "wheel_center_distance = 24; // cm\n",
      "\n",
      "// Define points\n",
      "Point(1) = {0, 0, -wheel_height/2, 0.1}; // center of wheel 1\n",
      "Point(2) = {0, 0, wheel_height/2, 0.1}; // top of wheel 1\n",
      "Point(3) = {wheel_center_distance, 0, -wheel_height/2, 0.1}; // center of wheel 2\n",
      "Point(4) = {wheel_center_distance, 0, wheel_height/2, 0.1}; // top of wheel 2\n",
      "Point(5) = {0, 0, -axle_length/2, 0.1}; // center of axle\n",
      "Point(6) = {wheel_center_distance, 0, -axle_length/2, 0.1}; // end of axle\n",
      "\n",
      "// Define cylinders\n",
      "Cylinder(1) = {0, 0, -wheel_height/2, 0, 0, wheel_height, wheel_radius}; // wheel 1\n",
      "Cylinder(2) = {wheel_center_distance, 0, -wheel_height/2, 0, 0, wheel_height, wheel_radius}; // wheel 2\n",
      "Cylinder(3) = {0, 0, -axle_length/2, wheel_center_distance, 0, axle_length, axle_radius}; // axle\n",
      "\n",
      "// Define physical groups\n",
      "Physical Volume(\"Wheel1\") = {1};\n",
      "Physical Volume(\"Wheel2\") = {2};\n",
      "Physical Volume(\"Axle\") = {3};\n",
      "\n",
      "//END_GEO\n",
      "\n",
      "Please review the generated .geo file and let me know if it meets your requirements.\n"
     ]
    }
   ],
   "source": [
    "output = chain.predict(\n",
    "    human_input=\"That's fine go ahead\")\n",
    "print(output)"
   ]
  },
  {
   "cell_type": "code",
   "execution_count": 10,
   "metadata": {},
   "outputs": [
    {
     "name": "stdout",
     "output_type": "stream",
     "text": [
      "square_bar_llama3_70B.geo file saved\n",
      "Visualize .geo files with GMSH\n"
     ]
    }
   ],
   "source": [
    "extract_and_save_geo_file(output)"
   ]
  },
  {
   "cell_type": "code",
   "execution_count": 11,
   "metadata": {},
   "outputs": [
    {
     "name": "stdout",
     "output_type": "stream",
     "text": [
      "Let's correct the location of the wheels. We'll redefine the points and cylinders to position the wheels at the ends of the axle.\n",
      "\n",
      "Here's the updated .geo file:\n",
      "\n",
      "//BEGIN_GEO\n",
      "// Switch to OpenCASCADE geometry kernel\n",
      "SetFactory(\"OpenCASCADE\");\n",
      "\n",
      "// Define dimensions\n",
      "wheel_radius = 5; // cm\n",
      "wheel_height = 2; // cm\n",
      "axle_radius = 1; // cm\n",
      "axle_length = 20; // cm\n",
      "wheel_center_distance = axle_length + wheel_radius; // cm\n",
      "\n",
      "// Define points\n",
      "Point(1) = {0, 0, -axle_length/2 - wheel_height/2, 0.1}; // center of wheel 1\n",
      "Point(2) = {0, 0, -axle_length/2 + wheel_height/2, 0.1}; // top of wheel 1\n",
      "Point(3) = {0, 0, axle_length/2 - wheel_height/2, 0.1}; // center of wheel 2\n",
      "Point(4) = {0, 0, axle_length/2 + wheel_height/2, 0.1}; // top of wheel 2\n",
      "Point(5) = {0, 0, -axle_length/2, 0.1}; // start of axle\n",
      "Point(6) = {0, 0, axle_length/2, 0.1}; // end of axle\n",
      "\n",
      "// Define cylinders\n",
      "Cylinder(1) = {0, 0, -axle_length/2 - wheel_height/2, 0, 0, wheel_height, wheel_radius}; // wheel 1\n",
      "Cylinder(2) = {0, 0, axle_length/2 - wheel_height/2, 0, 0, wheel_height, wheel_radius}; // wheel 2\n",
      "Cylinder(3) = {0, 0, -axle_length/2, 0, 0, axle_length, axle_radius}; // axle\n",
      "\n",
      "// Define physical groups\n",
      "Physical Volume(\"Wheel1\") = {1};\n",
      "Physical Volume(\"Wheel2\") = {2};\n",
      "Physical Volume(\"Axle\") = {3};\n",
      "\n",
      "//END_GEO\n",
      "\n",
      "Please review the updated .geo file. The wheels should now be correctly positioned at the ends of the axle.\n"
     ]
    }
   ],
   "source": [
    "output = chain.predict(\n",
    "    human_input=\"The wheels are not correctly located. The should be located at the ends of the axle and on the same z axis: wheel|axle|wheel\")\n",
    "print(output)"
   ]
  },
  {
   "cell_type": "code",
   "execution_count": 15,
   "metadata": {},
   "outputs": [
    {
     "name": "stdout",
     "output_type": "stream",
     "text": [
      "wheel_llama3_70B.geo file saved\n",
      "Visualize .geo files with GMSH\n"
     ]
    }
   ],
   "source": [
    "extract_and_save_geo_file(output)"
   ]
  },
  {
   "cell_type": "code",
   "execution_count": 18,
   "metadata": {},
   "outputs": [],
   "source": [
    "PROJECT_NAME = 'wheel_llama3_70B_updated'"
   ]
  },
  {
   "cell_type": "code",
   "execution_count": 19,
   "metadata": {},
   "outputs": [
    {
     "name": "stdout",
     "output_type": "stream",
     "text": [
      "Creating MESH...\n",
      " \n",
      "wheel_llama3_70B_updated.msh saved\n",
      "You can visualize .msh files with GMSH, Paraview or, within this notebook, with plot_grid()\n"
     ]
    }
   ],
   "source": [
    "generate_mesh(Mesh_Min_Size = 0.05, Mesh_Max_Size = 0.1)"
   ]
  },
  {
   "cell_type": "code",
   "execution_count": null,
   "metadata": {},
   "outputs": [],
   "source": [
    "# it is not combined into one physical volume the two wheel vols should be deleted "
   ]
  }
 ],
 "metadata": {
  "kernelspec": {
   "display_name": "base",
   "language": "python",
   "name": "python3"
  },
  "language_info": {
   "codemirror_mode": {
    "name": "ipython",
    "version": 3
   },
   "file_extension": ".py",
   "mimetype": "text/x-python",
   "name": "python",
   "nbconvert_exporter": "python",
   "pygments_lexer": "ipython3",
   "version": "3.11.9"
  }
 },
 "nbformat": 4,
 "nbformat_minor": 2
}
