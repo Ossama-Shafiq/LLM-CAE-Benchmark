{
 "cells": [
  {
   "cell_type": "code",
   "execution_count": 1,
   "metadata": {},
   "outputs": [],
   "source": [
    "PROJECT_NAME = \"square_bar_llama3_70B\""
   ]
  },
  {
   "cell_type": "code",
   "execution_count": 2,
   "metadata": {},
   "outputs": [],
   "source": [
    "from langchain import LLMChain, PromptTemplate\n",
    "from langchain.memory import ConversationBufferWindowMemory\n",
    "from langchain_community.llms import Replicate\n",
    "from langchain_groq import ChatGroq\n",
    "import os\n",
    "from dotenv import load_dotenv\n",
    "load_dotenv()\n",
    "replicate_api_key = os.environ[\"REPLICATE_API_TOKEN\"]\n",
    "groq_api_key = os.environ[\"GROQ_API_TOKEN\"]\n",
    "\n",
    "template = \"\"\"You are a helpful assistant for creating a .geo file to be used in multiphysics simulations with the ELMER software. You analyze the geometry the user wants and ask questions on all required  dimensions until you have all the data to produce the file. In the file define physical groups for easy identification of different parts later on in ELMER. Follow these sections meticulously:\n",
    "1.\tDefine the Dimensions\n",
    "•\tStart by defining any necessary variables that will be used throughout the file.\n",
    "•\tExample: L = 10; // Length in cm.\n",
    "2.\tDefine the Points\n",
    "•\tDefine the points that make up the geometry. Each point should be defined with its coordinates in 3D space and a characteristic length.\n",
    "•\tExample: Point(1) = {{x, y, z, lc}}; where x, y, z are coordinates, and lc is the characteristic length.\n",
    "3.\tDefine the Lines\n",
    "•\tCreate lines by joining the defined points. Each line connects two points.\n",
    "•\tExample: Line(1) = {{Point1, Point2}};.\n",
    "4.\tDefine the Surfaces\n",
    "•\tSurfaces are defined based on the lines. Start by creating a Line Loop which is a closed loop of lines.\n",
    "•\tExample: Line Loop(LoopID) = {{Line1, Line2, ..., LineN}};.\n",
    "•\tThen, define a surface. This can be a Plane Surface for flat surfaces or a Ruled Surface for curved surfaces.\n",
    "•\tExample: Plane Surface(SurfaceID) = {{LoopID}}; or Ruled Surface(SurfaceID) = {{LoopID}};.\n",
    "5.\tDefine the Volume\n",
    "•\tFor 3D geometries, define volumes. Start by creating a Surface Loop which is a collection of surfaces that enclose a volume.\n",
    "•\tExample: Surface Loop(SurfaceLoopID) = {{Surface1, Surface2, ..., SurfaceN}};.\n",
    "•\tThen, define a volume enclosed by this surface loop.\n",
    "•\tExample: Volume(VolumeID) = {{SurfaceLoopID}};.\n",
    "6.\tDefine Physical Groups for Boundaries\n",
    "•\tAssign meaningful names to different parts of the geometry using physical groups. This is crucial for identifying boundaries and regions during simulation.\n",
    "•\tExample for surfaces: Physical Surface(\"Name\") = {{SurfaceID}};.\n",
    "•\tExample for volume: Physical Volume(\"Name\") = {{VolumeID}};.\n",
    "•\tUse descriptive names like \"Bottom\", \"Top\", \"Side1\", etc., for surfaces and an appropriate name for the volume.\n",
    "Additional Instructions:\n",
    "•\tEnsure that the identifiers (like Point1, Line1, SurfaceID, etc.) are unique and correctly referenced. Numbering starts with 1.\n",
    "•\tInclude comments for clarity, using // to start a comment line.\n",
    "•\tPay attention to the orientation of lines and surfaces, as this affects the mesh generation in Gmsh.\n",
    "•\tCheck if the information provided by the user is relevant. If the user provides information that is not relevant or tries to change the subject, steer the conversation back to the original focus of providing information for the .geo file.\n",
    "•\tIn doubt ask the user for clarification.\n",
    "Output Instructions:\n",
    "•\tProduce only the final text of the .geo file. Do not include any preliminary steps or explanations in your output.\n",
    "•\tTo facilitate the extraction of this text by a subsequent function, please enclose the entire .geo file content within specific markers:\n",
    "   - Start the file content with `//BEGIN_GEO`.\n",
    "   - End the file content with `//END_GEO`.\n",
    "•\tEnsure that the text between these markers is exactly as it should appear in the .geo file, with correct syntax and formatting.\n",
    "\n",
    "Example:\n",
    "//BEGIN_GEO\n",
    "[Insert the complete and final .geo file content here]\n",
    "//END_GEO\n",
    "\n",
    "{history}\n",
    "Human: {human_input}\n",
    "Assistant:\"\"\"\n",
    "\n",
    "# template = \"\"\"Assistant is a large language model.\n",
    "# Assistant is designed to be able to assist with a wide range of tasks, from answering simple questions to providing in-depth explanations and discussions on a wide range of topics. As a language model, Assistant is able to generate human-like text based on the input it receives, allowing it to engage in natural-sounding conversations and provide responses that are coherent and relevant to the topic at hand.\n",
    "# Assistant is constantly learning and improving, and its capabilities are constantly evolving. It is able to process and understand large amounts of text, and can use this knowledge to provide accurate and informative responses to a wide range of questions. Additionally, Assistant is able to generate its own text based on the input it receives, allowing it to engage in discussions and provide explanations and descriptions on a wide range of topics.\n",
    "# Overall, Assistant is a powerful tool that can help with a wide range of tasks and provide valuable insights and information on a wide range of topics. Whether you need help with a specific question or just want to have a conversation about a particular topic, Assistant is here to assist.\n",
    "\n",
    "# {history}\n",
    "# Human: {human_input}\n",
    "# Assistant:\"\"\"\n",
    "\n",
    "prompt = PromptTemplate(input_variables=[\"history\", \"human_input\"], template=template)     "
   ]
  },
  {
   "cell_type": "code",
   "execution_count": 3,
   "metadata": {},
   "outputs": [],
   "source": [
    "#Saves .geo file from response\n",
    "def extract_and_save_geo_file(response_text,PROJECT_NAME=PROJECT_NAME): \n",
    "    file_path = f\"{PROJECT_NAME}.geo\"\n",
    "    try:\n",
    "        # Use string formatting explained in system_geo.txt \n",
    "        start_marker = \"//BEGIN_GEO\"\n",
    "        end_marker = f\"//END_GEO\"\n",
    "\n",
    "        start_index = response_text.index(start_marker) + len(start_marker)\n",
    "        end_index = response_text.index(end_marker, start_index)\n",
    "        geo_content = response_text[start_index:end_index].strip()\n",
    "\n",
    "        with open(file_path, 'w') as file:\n",
    "            file.write(geo_content)\n",
    "        print(f\"{file_path} file saved\")\n",
    "        print(\"Visualize .geo files with GMSH\")\n",
    "\n",
    "    except ValueError as e:\n",
    "        print(f\"ERROR: .geo file NOT SAVED.\")"
   ]
  },
  {
   "cell_type": "code",
   "execution_count": 4,
   "metadata": {},
   "outputs": [],
   "source": [
    "#FUNCTIONS FROM CREATING THE MESH ONCE THE .GEO FILE\n",
    "import os\n",
    "import gmsh\n",
    "\n",
    "def generate_mesh(Mesh_Min_Size, Mesh_Max_Size):\n",
    "    print(\"Creating MESH...\\n \")\n",
    "    try:\n",
    "        current_directory = os.getcwd()\n",
    "        input_geo_file = os.path.join(current_directory, f'{PROJECT_NAME}.geo') \n",
    "        output_msh_file = os.path.join(current_directory, f'{PROJECT_NAME}.msh')  \n",
    "        # Initialize gmsh\n",
    "        gmsh.initialize()\n",
    "        # Open the .geo file\n",
    "        gmsh.open(input_geo_file)\n",
    "        gmsh.option.setNumber(\"Mesh.CharacteristicLengthMin\", Mesh_Min_Size)\n",
    "        gmsh.option.setNumber(\"Mesh.CharacteristicLengthMax\", Mesh_Max_Size)\n",
    "        # Generate the mesh using default settings\n",
    "        gmsh.model.mesh.generate(3)\n",
    "        # Save the mesh to a .msh file\n",
    "        gmsh.write(output_msh_file)\n",
    "        # Finalize gmsh\n",
    "        gmsh.finalize()\n",
    "        print(f\"{PROJECT_NAME}.msh saved\")\n",
    "        print(\"You can visualize .msh files with GMSH, Paraview or, within this notebook, with plot_grid()\")      \n",
    "    except ValueError as e:\n",
    "        print(f\"ERROR: MESH NOT CREATED.\")\n",
    "        \n",
    "#(optional)\n",
    "import pyvista as pv\n",
    "\n",
    "def plot_grid(output_msh_file):\n",
    "    # Read mesh file\n",
    "    mesh = pv.read(output_msh_file)\n",
    "    # Set the Jupyter backend to 'static'\n",
    "    pv.set_jupyter_backend('static')\n",
    "    # Plot the mesh\n",
    "    plotter = pv.Plotter(notebook=True)\n",
    "    plotter.add_mesh(mesh, show_edges=True)\n",
    "    plotter.show()"
   ]
  },
  {
   "cell_type": "code",
   "execution_count": 5,
   "metadata": {},
   "outputs": [],
   "source": [
    "# llama3 = Replicate(model=\"meta/meta-llama-3-70b\")\n",
    "llama3 = ChatGroq(temperature=0,groq_api_key=groq_api_key, model_name=\"llama3-70b-8192\")"
   ]
  },
  {
   "cell_type": "code",
   "execution_count": 8,
   "metadata": {},
   "outputs": [],
   "source": [
    "chain = LLMChain(\n",
    "    llm=llama3,\n",
    "    prompt=prompt,\n",
    "    verbose=False,\n",
    "    memory=ConversationBufferWindowMemory(k=8),\n",
    "    llm_kwargs={\"max_tokens\":4096,\"temperature\": 0.00}\n",
    ")"
   ]
  },
  {
   "cell_type": "code",
   "execution_count": 9,
   "metadata": {},
   "outputs": [
    {
     "name": "stdout",
     "output_type": "stream",
     "text": [
      "Let's create a .geo file for a bar with a square section. \n",
      "\n",
      "To define the dimensions, I need to know the length of the bar and the side length of the square section. \n",
      "\n",
      "Can you please provide the length of the bar and the side length of the square section?\n"
     ]
    }
   ],
   "source": [
    "output = chain.predict(\n",
    "    human_input=\"Create a bar with a square section. The axis of the bar is parallel to the z axis\")\n",
    "print(output)"
   ]
  },
  {
   "cell_type": "code",
   "execution_count": 11,
   "metadata": {},
   "outputs": [
    {
     "name": "stdout",
     "output_type": "stream",
     "text": [
      "So the side length of the square cross-section is 1cm. That's helpful to know.\n",
      "\n",
      "Now, I need to know the length of the bar. How long is the bar in the z-axis direction?\n"
     ]
    }
   ],
   "source": [
    "output = chain.predict(\n",
    "    human_input=\"The side length of the square cross-section is 1cm\")\n",
    "print(output)"
   ]
  },
  {
   "cell_type": "code",
   "execution_count": 12,
   "metadata": {},
   "outputs": [
    {
     "name": "stdout",
     "output_type": "stream",
     "text": [
      "I think there might be some confusion! The height of the Mole Antonelliana in Turin, Italy is not relevant to the dimensions of the bar we're trying to create. Let's focus on the task at hand.\n",
      "\n",
      "To define the dimensions of the bar, I need to know the length of the bar in the z-axis direction. Could you please provide the length of the bar in centimeters?\n"
     ]
    }
   ],
   "source": [
    "output = chain.predict(\n",
    "    human_input=\"What is the height of the Mole Antonelliana in Turin, Italy\")\n",
    "print(output)"
   ]
  },
  {
   "cell_type": "code",
   "execution_count": 13,
   "metadata": {},
   "outputs": [
    {
     "name": "stdout",
     "output_type": "stream",
     "text": [
      "Now that I have all the dimensions, let's create the .geo file.\n",
      "\n",
      "//BEGIN_GEO\n",
      "// Define the dimensions\n",
      "L = 10; // Length of the bar in cm\n",
      "a = 1; // Side length of the square cross-section in cm\n",
      "\n",
      "// Define the points\n",
      "Point(1) = {0, 0, 0, a}; // Bottom left\n",
      "Point(2) = {a, 0, 0, a}; // Bottom right\n",
      "Point(3) = {a, a, 0, a}; // Top right\n",
      "Point(4) = {0, a, 0, a}; // Top left\n",
      "Point(5) = {0, 0, L, a}; // Top left on the top surface\n",
      "Point(6) = {a, 0, L, a}; // Top right on the top surface\n",
      "Point(7) = {a, a, L, a}; // Bottom right on the top surface\n",
      "Point(8) = {0, a, L, a}; // Bottom left on the top surface\n",
      "\n",
      "// Define the lines\n",
      "Line(1) = {1, 2}; // Bottom edge\n",
      "Line(2) = {2, 3}; // Right edge\n",
      "Line(3) = {3, 4}; // Top edge\n",
      "Line(4) = {4, 1}; // Left edge\n",
      "Line(5) = {5, 6}; // Top edge on the top surface\n",
      "Line(6) = {6, 7}; // Right edge on the top surface\n",
      "Line(7) = {7, 8}; // Bottom edge on the top surface\n",
      "Line(8) = {8, 5}; // Left edge on the top surface\n",
      "Line(9) = {1, 5}; // Vertical edge 1\n",
      "Line(10) = {2, 6}; // Vertical edge 2\n",
      "Line(11) = {3, 7}; // Vertical edge 3\n",
      "Line(12) = {4, 8}; // Vertical edge 4\n",
      "\n",
      "// Define the surfaces\n",
      "Line Loop(1) = {1, 2, 3, 4}; // Bottom surface\n",
      "Plane Surface(1) = {1}; // Bottom surface\n",
      "Line Loop(2) = {5, 6, 7, 8}; // Top surface\n",
      "Plane Surface(2) = {2}; // Top surface\n",
      "Line Loop(3) = {1, 10, -5, -9}; // Front surface\n",
      "Plane Surface(3) = {3}; // Front surface\n",
      "Line Loop(4) = {2, 11, -6, -10}; // Right surface\n",
      "Plane Surface(4) = {4}; // Right surface\n",
      "Line Loop(5) = {3, 12, -7, -11}; // Back surface\n",
      "Plane Surface(5) = {5}; // Back surface\n",
      "Line Loop(6) = {4, 9, -8, -12}; // Left surface\n",
      "Plane Surface(6) = {6}; // Left surface\n",
      "\n",
      "// Define the volume\n",
      "Surface Loop(1) = {1, 2, 3, 4, 5, 6}; // Enclosing surfaces\n",
      "Volume(1) = {1}; // The bar volume\n",
      "\n",
      "// Define physical groups for boundaries\n",
      "Physical Surface(\"Bottom\") = {1}; // Bottom surface\n",
      "Physical Surface(\"Top\") = {2}; // Top surface\n",
      "Physical Surface(\"Front\") = {3}; // Front surface\n",
      "Physical Surface(\"Right\") = {4}; // Right surface\n",
      "Physical Surface(\"Back\") = {5}; // Back surface\n",
      "Physical Surface(\"Left\") = {6}; // Left surface\n",
      "Physical Volume(\"Bar\") = {1}; // The bar volume\n",
      "//END_GEO\n"
     ]
    }
   ],
   "source": [
    "output = chain.predict(\n",
    "    human_input=\"The length of the bar along the z-axis is 10 cm\")\n",
    "print(output)"
   ]
  },
  {
   "cell_type": "code",
   "execution_count": 14,
   "metadata": {},
   "outputs": [
    {
     "name": "stdout",
     "output_type": "stream",
     "text": [
      "square_bar_llama3_70B.geo file saved\n",
      "Visualize .geo files with GMSH\n"
     ]
    }
   ],
   "source": [
    "extract_and_save_geo_file(output)"
   ]
  },
  {
   "cell_type": "code",
   "execution_count": 15,
   "metadata": {},
   "outputs": [
    {
     "name": "stdout",
     "output_type": "stream",
     "text": [
      "Creating MESH...\n",
      " \n",
      "square_bar_llama3_70B.msh saved\n",
      "You can visualize .msh files with GMSH, Paraview or, within this notebook, with plot_grid()\n"
     ]
    }
   ],
   "source": [
    "generate_mesh(Mesh_Min_Size = 0.05, Mesh_Max_Size = 0.1)"
   ]
  },
  {
   "cell_type": "code",
   "execution_count": null,
   "metadata": {},
   "outputs": [],
   "source": []
  }
 ],
 "metadata": {
  "kernelspec": {
   "display_name": "base",
   "language": "python",
   "name": "python3"
  },
  "language_info": {
   "codemirror_mode": {
    "name": "ipython",
    "version": 3
   },
   "file_extension": ".py",
   "mimetype": "text/x-python",
   "name": "python",
   "nbconvert_exporter": "python",
   "pygments_lexer": "ipython3",
   "version": "3.11.9"
  }
 },
 "nbformat": 4,
 "nbformat_minor": 2
}
