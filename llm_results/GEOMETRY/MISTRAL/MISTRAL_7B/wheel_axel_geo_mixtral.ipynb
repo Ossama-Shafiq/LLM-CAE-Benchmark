{
 "cells": [
  {
   "cell_type": "code",
   "execution_count": 1,
   "metadata": {},
   "outputs": [],
   "source": [
    "PROJECT_NAME = \"wheel_axle_mistral\""
   ]
  },
  {
   "cell_type": "code",
   "execution_count": 2,
   "metadata": {},
   "outputs": [],
   "source": [
    "from langchain import LLMChain, PromptTemplate\n",
    "from langchain.memory import ConversationBufferWindowMemory\n",
    "from langchain_community.llms import Replicate\n",
    "import os\n",
    "from dotenv import load_dotenv\n",
    "load_dotenv()\n",
    "replicate_api_key = os.environ[\"REPLICATE_API_TOKEN\"]\n",
    "\n",
    "template = \"\"\"You are a helpful assistant for creating a .geo file to be used in multiphysics simulations with software like ELMER or Gmsh. Your task is to analyze the geometry the user wants and ask questions about all required dimensions until you have all the data to produce the file. In the file, define physical groups for easy identification of different parts later on in the simulation software. Follow these sections meticulously:\n",
    "1.\tStart with OpenCASCADE Geometry Kernel\n",
    "•\tBegin the file by switching to the OpenCASCADE geometry kernel with\n",
    "// Switch to OpenCASCADE geometry kernel\n",
    "SetFactory(\"OpenCASCADE\");\n",
    "•\tRemember, OpenCASCADE primitives automatically create their defining points.\n",
    "2.\tDefine the Dimensions\n",
    "•\tStart by defining any necessary variables that will be used throughout the file.\n",
    "•\tExample: L = 10; // Length in cm.\n",
    "3.\tDefine the Points\n",
    "•\tDefine the points that make up the geometry. Each point should be defined with its coordinates in 3D space and a characteristic length.\n",
    "•\tExample: Point(1) = {{x, y, z, lc}}; where x, y, z are coordinates, and lc is the characteristic length.\n",
    "4.\tDefine Lines\n",
    "•\tCreate lines by joining the defined points. Each line connects two points.\n",
    "•\tExample: Line(1) = {{Point1, Point2}};\n",
    "5.\tDefine Circles\n",
    "•\tCreate circles by defining three points: the start point, center point, and end point.\n",
    "•\tExample: Circle(1) = {{Point1, CenterPoint, Point2}};\n",
    "6.\tDefine Cylinders\n",
    "•\tUse cylinders for simple cylindrical shapes.\n",
    "•\tExample: Cylinder(1) = {{x1, y1, z1, Dx, Dy, Dz, r}}; where x1, y1, z1 define the base center of the cylinder, Dx, Dy, Dz represent the relative displacement from the base center to the top center, and r is the radius of the cylinder.\n",
    "7.\tDefine Spheres\n",
    "•\tUse spheres for simple spherical shapes.\n",
    "•\tExample: Sphere(1) = {{x, y, z, r}}; where x, y, z define the center and r is the radius.\n",
    "8.\tDefine Boxes\n",
    "•\tUse boxes for simple rectangular or cubic shapes.\n",
    "•\tExample: Box(1) = {{x1, y1, z1, dx, dy, dz}}; where x1, y1, z1 define the corner and dx, dy, dz define the dimensions.\n",
    "9.\tDefine Cones\n",
    "•\tUse cones for simple conical shapes.\n",
    "•\tExample: Cone(1) = {{x1, y1, z1, r1, x2, y2, z2, r2}}; where x1, y1, z1, r1 define the base and x2, y2, z2, r2 define the top.\n",
    "10.\tDefine Extrusions and Revolutions\n",
    "•\tUse extrusions or revolutions for shapes that can be formed by extending or rotating a 2D profile.\n",
    "•\tExtrusion Example: Extrude {{dx, dy, dz}} {{Surface{{1}}; Layers{{N}}; Recombine;}};\n",
    "•\tRevolution Example: Rotate {{Axis{{ax, ay, az}}, Point{{px, py, pz}}, Angle{{theta}};}} {{Surface{{1}}; Layers{{N}}; Recombine;}};\n",
    "11.\tDefine the Surfaces\n",
    "•\tSurfaces are defined based on the lines or curves. Start by creating a Line Loop which is a closed loop of lines.\n",
    "•\tExample: Line Loop(LoopID) = {{Line1, Line2, ..., LineN}};\n",
    "•\tThen, define a surface. This can be a Plane Surface for flat surfaces or a Ruled Surface for curved surfaces.\n",
    "•\tExample: Plane Surface(SurfaceID) = {{LoopID}}; or Ruled Surface(SurfaceID) = {{LoopID}};\n",
    "12.\tDefine the Volume\n",
    "•\tFor 3D geometries, define volumes. Start by creating a Surface Loop which is a collection of surfaces that enclose a volume.\n",
    "•\tExample: Surface Loop(SurfaceLoopID) = {{Surface1, Surface2, ..., SurfaceN}};\n",
    "•\tThen, define a volume enclosed by this surface loop.\n",
    "•\tExample: Volume(VolumeID) = {{SurfaceLoopID}};\n",
    "13.\tDefine Physical Groups for Boundaries\n",
    "•\tAssign meaningful names to different parts of the geometry using physical groups. This is crucial for identifying boundaries and regions during simulation.\n",
    "•\tExample for surfaces: Physical Surface(\"Name\") = {{SurfaceID}};\n",
    "•\tExample for volume: Physical Volume(\"Name\") = {{VolumeID}};\n",
    "•\tUse descriptive names like \"Bottom\", \"Top\", \"Side1\", etc., for surfaces and an appropriate name for the volume.\n",
    "Normally geometries do not require all these sections to be defined. Always aim for the simplest approach to model the geometry. If there are multiple ways to create a shape, choose the simplest one.  \n",
    "Additional Instructions:\n",
    "•\tEnsure that the identifiers (like Point1, Line1, SurfaceID, etc.) are unique and correctly referenced. Numbering starts with 1.\n",
    "•\tCheck that all points used in Line, Circle, etc., do exist in the Point list.\n",
    "•\tInclude comments for clarity, using // to start a comment line.\n",
    "•\tPay attention to the orientation of lines and surfaces, as this affects the mesh generation in Gmsh.\n",
    "•\tVerify the geometric consistency: Ensure that the dimensions, positions, and connections of elements are logical and physically plausible.\n",
    "•\tIn doubt, ask the user for clarification.\n",
    "•\tIf the user provides information that is not relevant or tries to change the subject, steer the conversation back to the original focus of providing information for the .geo file.\n",
    "Output Instructions:\n",
    "•\tTo facilitate the extraction of this text by a subsequent function, please enclose the entire .geo file content within specific markers:\n",
    "•\tStart the file content with //BEGIN_GEO.\n",
    "•\tEnd the file content with //END_GEO.\n",
    "•\tEnsure that the text between these markers is exactly as it should appear in the .geo file, with correct syntax and formatting.\n",
    "Example:\n",
    "//BEGIN_GEO\n",
    "// Switch to OpenCASCADE geometry kernel\n",
    "SetFactory(\"OpenCASCADE\");\n",
    "[Insert the complete and final .geo file content here]\n",
    "//END_GEO\n",
    "\n",
    "{history}\n",
    "Human: {human_input}\n",
    "Assistant:\"\"\"\n",
    "\n",
    "prompt = PromptTemplate(input_variables=[\"history\", \"human_input\"], template=template)     "
   ]
  },
  {
   "cell_type": "code",
   "execution_count": 3,
   "metadata": {},
   "outputs": [],
   "source": [
    "#Saves .geo file from response\n",
    "def extract_and_save_geo_file(response_text,PROJECT_NAME=PROJECT_NAME): \n",
    "    file_path = f\"{PROJECT_NAME}.geo\"\n",
    "    try:\n",
    "        # Use string formatting explained in system_geo.txt \n",
    "        start_marker = \"//BEGIN_GEO\"\n",
    "        end_marker = f\"//END_GEO\"\n",
    "\n",
    "        start_index = response_text.index(start_marker) + len(start_marker)\n",
    "        end_index = response_text.index(end_marker, start_index)\n",
    "        geo_content = response_text[start_index:end_index].strip()\n",
    "\n",
    "        with open(file_path, 'w') as file:\n",
    "            file.write(geo_content)\n",
    "        print(f\"{file_path} file saved\")\n",
    "        print(\"Visualize .geo files with GMSH\")\n",
    "\n",
    "    except ValueError as e:\n",
    "        print(f\"ERROR: .geo file NOT SAVED.\")"
   ]
  },
  {
   "cell_type": "code",
   "execution_count": 4,
   "metadata": {},
   "outputs": [],
   "source": [
    "#FUNCTIONS FROM CREATING THE MESH ONCE THE .GEO FILE\n",
    "import os\n",
    "import gmsh\n",
    "\n",
    "def generate_mesh(Mesh_Min_Size, Mesh_Max_Size):\n",
    "    print(\"Creating MESH...\\n \")\n",
    "    try:\n",
    "        current_directory = os.getcwd()\n",
    "        input_geo_file = os.path.join(current_directory, f'{PROJECT_NAME}.geo') \n",
    "        output_msh_file = os.path.join(current_directory, f'{PROJECT_NAME}.msh')  \n",
    "        # Initialize gmsh\n",
    "        gmsh.initialize()\n",
    "        # Open the .geo file\n",
    "        gmsh.open(input_geo_file)\n",
    "        gmsh.option.setNumber(\"Mesh.CharacteristicLengthMin\", Mesh_Min_Size)\n",
    "        gmsh.option.setNumber(\"Mesh.CharacteristicLengthMax\", Mesh_Max_Size)\n",
    "        # Generate the mesh using default settings\n",
    "        gmsh.model.mesh.generate(3)\n",
    "        # Save the mesh to a .msh file\n",
    "        gmsh.write(output_msh_file)\n",
    "        # Finalize gmsh\n",
    "        gmsh.finalize()\n",
    "        print(f\"{PROJECT_NAME}.msh saved\")\n",
    "        print(\"You can visualize .msh files with GMSH, Paraview or, within this notebook, with plot_grid()\")      \n",
    "    except ValueError as e:\n",
    "        print(f\"ERROR: MESH NOT CREATED.\")\n",
    "        \n",
    "#(optional)\n",
    "import pyvista as pv\n",
    "\n",
    "def plot_grid(output_msh_file):\n",
    "    # Read mesh file\n",
    "    mesh = pv.read(output_msh_file)\n",
    "    # Set the Jupyter backend to 'static'\n",
    "    pv.set_jupyter_backend('static')\n",
    "    # Plot the mesh\n",
    "    plotter = pv.Plotter(notebook=True)\n",
    "    plotter.add_mesh(mesh, show_edges=True)\n",
    "    plotter.show()"
   ]
  },
  {
   "cell_type": "code",
   "execution_count": 5,
   "metadata": {},
   "outputs": [],
   "source": [
    "mistral = Replicate(model=\"mistralai/mistral-7b-instruct-v0.2:f5701ad84de5715051cb99d550539719f8a7fbcf65e0e62a3d1eb3f94720764e\")"
   ]
  },
  {
   "cell_type": "code",
   "execution_count": 6,
   "metadata": {},
   "outputs": [],
   "source": [
    "chatgpt_chain = LLMChain(\n",
    "    llm=mistral,\n",
    "    prompt=prompt,\n",
    "    verbose=False,\n",
    "    memory=ConversationBufferWindowMemory(k=8),\n",
    "    llm_kwargs={\"max_new_tokens\":4096,\"temperature\": 0.00}\n",
    ")"
   ]
  },
  {
   "cell_type": "code",
   "execution_count": 7,
   "metadata": {},
   "outputs": [
    {
     "name": "stdout",
     "output_type": "stream",
     "text": [
      "//BEGIN_GEO\n",
      "// Switch to OpenCASCADE geometry kernel\n",
      "SetFactory(\"OpenCASCADE\");\n",
      "\n",
      "// Define necessary variables\n",
      "L_axle = 10; // Length of the axle in cm\n",
      "D_axle = 1; // Diameter of the axle in cm\n",
      "D_wheel = 20; // Diameter of the wheel in cm\n",
      "H_wheel = 5; // Height of the wheel in cm\n",
      "\n",
      "// Define points\n",
      "Point(1) = {0, 0, 0, 1}; // Point for the center of the first wheel\n",
      "Point(2) = {0, 0, L_axle, 1}; // Point for the center of the axle\n",
      "Point(3) = {0, 0, L_axle + H_wheel, 1}; // Point for the center of the second wheel\n",
      "\n",
      "// Define cylinders for the wheel and axle\n",
      "Cylinder(1) = {Point(1), Point(1), D_wheel/2, D_wheel/2, H_wheel, 1};\n",
      "Cylinder(2) = {Point(2), Point(2), D_axle/2, D_axle/2, L_axle, 1};\n",
      "Cylinder(3) = {Point(3), Point(3), D_wheel/2, D_wheel/2, H_wheel, 1};\n",
      "\n",
      "// Define physical groups\n",
      "Physical Volume(\"Wheel1\") = {Volume(Cylinder1)};\n",
      "Physical Volume(\"Wheel2\") = {Volume(Cylinder3)};\n",
      "Physical Volume(\"Axle\") = {Volume(Cylinder2)};\n",
      "\n",
      "//END_GEO\n"
     ]
    }
   ],
   "source": [
    "output = chatgpt_chain.predict(\n",
    "    human_input=\"Create a wheel and axle. Keep it simple. Assume that both Wheels and axle are cylinders. The wheels are located at the two ends of the axle. The axis of all cylinders are parallel to the z axis\")\n",
    "print(output)"
   ]
  },
  {
   "cell_type": "code",
   "execution_count": 8,
   "metadata": {},
   "outputs": [
    {
     "name": "stdout",
     "output_type": "stream",
     "text": [
      "wheel_axle_mistral.geo file saved\n",
      "Visualize .geo files with GMSH\n"
     ]
    }
   ],
   "source": [
    "extract_and_save_geo_file(output)"
   ]
  },
  {
   "cell_type": "code",
   "execution_count": null,
   "metadata": {},
   "outputs": [],
   "source": [
    "output = chatgpt_chain.predict(\n",
    "    human_input=\"There is no wheel axle system\")\n",
    "print(output)"
   ]
  },
  {
   "cell_type": "code",
   "execution_count": null,
   "metadata": {},
   "outputs": [],
   "source": [
    "extract_and_save_geo_file(output, PROJECT_NAME=\"wheel_axle_2\")"
   ]
  },
  {
   "cell_type": "code",
   "execution_count": null,
   "metadata": {},
   "outputs": [],
   "source": [
    "output = chatgpt_chain.predict(\n",
    "    human_input=\"This is still not a wheel | axle | wheel. There are multiple artifacts of the repeating wheel axle system present in this, which is really strange why is that the case?\")\n",
    "print(output)"
   ]
  },
  {
   "cell_type": "code",
   "execution_count": null,
   "metadata": {},
   "outputs": [],
   "source": [
    "extract_and_save_geo_file(output, \"wheel_axle_3\")"
   ]
  }
 ],
 "metadata": {
  "kernelspec": {
   "display_name": "base",
   "language": "python",
   "name": "python3"
  },
  "language_info": {
   "codemirror_mode": {
    "name": "ipython",
    "version": 3
   },
   "file_extension": ".py",
   "mimetype": "text/x-python",
   "name": "python",
   "nbconvert_exporter": "python",
   "pygments_lexer": "ipython3",
   "version": "3.11.4"
  }
 },
 "nbformat": 4,
 "nbformat_minor": 2
}
