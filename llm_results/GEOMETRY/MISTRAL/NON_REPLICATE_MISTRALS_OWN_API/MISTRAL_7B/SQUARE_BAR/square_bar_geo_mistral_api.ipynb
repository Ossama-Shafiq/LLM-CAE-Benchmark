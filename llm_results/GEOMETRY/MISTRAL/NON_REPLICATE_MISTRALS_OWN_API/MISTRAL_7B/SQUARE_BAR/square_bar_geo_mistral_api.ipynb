{
 "cells": [
  {
   "cell_type": "code",
   "execution_count": 1,
   "metadata": {},
   "outputs": [],
   "source": [
    "PROJECT_NAME = \"square_bar_misral_7B\""
   ]
  },
  {
   "cell_type": "code",
   "execution_count": 2,
   "metadata": {},
   "outputs": [],
   "source": [
    "from langchain import LLMChain, PromptTemplate\n",
    "from langchain.memory import ConversationBufferWindowMemory\n",
    "from langchain_mistralai.chat_models import ChatMistralAI\n",
    "import os\n",
    "from dotenv import load_dotenv\n",
    "load_dotenv()\n",
    "mistral_api_key = os.environ[\"MISTRAL_API_KEY\"]\n",
    "\n",
    "template = \"\"\"You are a helpful assistant for creating a .geo file to be used in multiphysics simulations with the ELMER software. You analyze the geometry the user wants and ask questions on all required  dimensions until you have all the data to produce the file. In the file define physical groups for easy identification of different parts later on in ELMER. Follow these sections meticulously:\n",
    "1.\tDefine the Dimensions\n",
    "•\tStart by defining any necessary variables that will be used throughout the file.\n",
    "•\tExample: L = 10; // Length in cm.\n",
    "2.\tDefine the Points\n",
    "•\tDefine the points that make up the geometry. Each point should be defined with its coordinates in 3D space and a characteristic length.\n",
    "•\tExample: Point(1) = {{x, y, z, lc}}; where x, y, z are coordinates, and lc is the characteristic length.\n",
    "3.\tDefine the Lines\n",
    "•\tCreate lines by joining the defined points. Each line connects two points.\n",
    "•\tExample: Line(1) = {{Point1, Point2}};.\n",
    "4.\tDefine the Surfaces\n",
    "•\tSurfaces are defined based on the lines. Start by creating a Line Loop which is a closed loop of lines.\n",
    "•\tExample: Line Loop(LoopID) = {{Line1, Line2, ..., LineN}};.\n",
    "•\tThen, define a surface. This can be a Plane Surface for flat surfaces or a Ruled Surface for curved surfaces.\n",
    "•\tExample: Plane Surface(SurfaceID) = {{LoopID}}; or Ruled Surface(SurfaceID) = {{LoopID}};.\n",
    "5.\tDefine the Volume\n",
    "•\tFor 3D geometries, define volumes. Start by creating a Surface Loop which is a collection of surfaces that enclose a volume.\n",
    "•\tExample: Surface Loop(SurfaceLoopID) = {{Surface1, Surface2, ..., SurfaceN}};.\n",
    "•\tThen, define a volume enclosed by this surface loop.\n",
    "•\tExample: Volume(VolumeID) = {{SurfaceLoopID}};.\n",
    "6.\tDefine Physical Groups for Boundaries\n",
    "•\tAssign meaningful names to different parts of the geometry using physical groups. This is crucial for identifying boundaries and regions during simulation.\n",
    "•\tExample for surfaces: Physical Surface(\"Name\") = {{SurfaceID}};.\n",
    "•\tExample for volume: Physical Volume(\"Name\") = {{VolumeID}};.\n",
    "•\tUse descriptive names like \"Bottom\", \"Top\", \"Side1\", etc., for surfaces and an appropriate name for the volume.\n",
    "Additional Instructions:\n",
    "•\tEnsure that the identifiers (like Point1, Line1, SurfaceID, etc.) are unique and correctly referenced. Numbering starts with 1.\n",
    "•\tInclude comments for clarity, using // to start a comment line.\n",
    "•\tPay attention to the orientation of lines and surfaces, as this affects the mesh generation in Gmsh.\n",
    "•\tCheck if the information provided by the user is relevant. If the user provides information that is not relevant or tries to change the subject, steer the conversation back to the original focus of providing information for the .geo file.\n",
    "•\tIn doubt ask the user for clarification.\n",
    "Output Instructions:\n",
    "•\tProduce only the final text of the .geo file. Do not include any preliminary steps or explanations in your output.\n",
    "•\tTo facilitate the extraction of this text by a subsequent function, please enclose the entire .geo file content within specific markers:\n",
    "   - Start the file content with `//BEGIN_GEO`.\n",
    "   - End the file content with `//END_GEO`.\n",
    "•\tEnsure that the text between these markers is exactly as it should appear in the .geo file, with correct syntax and formatting.\n",
    "\n",
    "Example:\n",
    "//BEGIN_GEO\n",
    "[Insert the complete and final .geo file content here]\n",
    "//END_GEO\n",
    "\n",
    "{history}\n",
    "Human: {human_input}\n",
    "Assistant:\"\"\"\n",
    "\n",
    "# template = \"\"\"Assistant is a large language model.\n",
    "# Assistant is designed to be able to assist with a wide range of tasks, from answering simple questions to providing in-depth explanations and discussions on a wide range of topics. As a language model, Assistant is able to generate human-like text based on the input it receives, allowing it to engage in natural-sounding conversations and provide responses that are coherent and relevant to the topic at hand.\n",
    "# Assistant is constantly learning and improving, and its capabilities are constantly evolving. It is able to process and understand large amounts of text, and can use this knowledge to provide accurate and informative responses to a wide range of questions. Additionally, Assistant is able to generate its own text based on the input it receives, allowing it to engage in discussions and provide explanations and descriptions on a wide range of topics.\n",
    "# Overall, Assistant is a powerful tool that can help with a wide range of tasks and provide valuable insights and information on a wide range of topics. Whether you need help with a specific question or just want to have a conversation about a particular topic, Assistant is here to assist.\n",
    "\n",
    "# {history}\n",
    "# Human: {human_input}\n",
    "# Assistant:\"\"\"\n",
    "\n",
    "prompt = PromptTemplate(input_variables=[\"history\", \"human_input\"], template=template)"
   ]
  },
  {
   "cell_type": "code",
   "execution_count": 3,
   "metadata": {},
   "outputs": [],
   "source": [
    "#Saves .geo file from response\n",
    "def extract_and_save_geo_file(response_text,PROJECT_NAME=PROJECT_NAME): \n",
    "    file_path = f\"{PROJECT_NAME}.geo\"\n",
    "    try:\n",
    "        # Use string formatting explained in system_geo.txt \n",
    "        start_marker = \"//BEGIN_GEO\"\n",
    "        end_marker = f\"//END_GEO\"\n",
    "\n",
    "        start_index = response_text.index(start_marker) + len(start_marker)\n",
    "        end_index = response_text.index(end_marker, start_index)\n",
    "        geo_content = response_text[start_index:end_index].strip()\n",
    "\n",
    "        with open(file_path, 'w') as file:\n",
    "            file.write(geo_content)\n",
    "        print(f\"{file_path} file saved\")\n",
    "        print(\"Visualize .geo files with GMSH\")\n",
    "\n",
    "    except ValueError as e:\n",
    "        print(f\"ERROR: .geo file NOT SAVED.\")"
   ]
  },
  {
   "cell_type": "code",
   "execution_count": 4,
   "metadata": {},
   "outputs": [],
   "source": [
    "#FUNCTIONS FROM CREATING THE MESH ONCE THE .GEO FILE\n",
    "import os\n",
    "import gmsh\n",
    "\n",
    "def generate_mesh(Mesh_Min_Size, Mesh_Max_Size):\n",
    "    print(\"Creating MESH...\\n \")\n",
    "    try:\n",
    "        current_directory = os.getcwd()\n",
    "        input_geo_file = os.path.join(current_directory, f'{PROJECT_NAME}.geo') \n",
    "        output_msh_file = os.path.join(current_directory, f'{PROJECT_NAME}.msh')  \n",
    "        # Initialize gmsh\n",
    "        gmsh.initialize()\n",
    "        # Open the .geo file\n",
    "        gmsh.open(input_geo_file)\n",
    "        gmsh.option.setNumber(\"Mesh.CharacteristicLengthMin\", Mesh_Min_Size)\n",
    "        gmsh.option.setNumber(\"Mesh.CharacteristicLengthMax\", Mesh_Max_Size)\n",
    "        # Generate the mesh using default settings\n",
    "        gmsh.model.mesh.generate(3)\n",
    "        # Save the mesh to a .msh file\n",
    "        gmsh.write(output_msh_file)\n",
    "        # Finalize gmsh\n",
    "        gmsh.finalize()\n",
    "        print(f\"{PROJECT_NAME}.msh saved\")\n",
    "        print(\"You can visualize .msh files with GMSH, Paraview or, within this notebook, with plot_grid()\")      \n",
    "    except ValueError as e:\n",
    "        print(f\"ERROR: MESH NOT CREATED.\")\n",
    "        \n",
    "#(optional)\n",
    "import pyvista as pv\n",
    "\n",
    "def plot_grid(output_msh_file):\n",
    "    # Read mesh file\n",
    "    mesh = pv.read(output_msh_file)\n",
    "    # Set the Jupyter backend to 'static'\n",
    "    pv.set_jupyter_backend('static')\n",
    "    # Plot the mesh\n",
    "    plotter = pv.Plotter(notebook=True)\n",
    "    plotter.add_mesh(mesh, show_edges=True)\n",
    "    plotter.show()"
   ]
  },
  {
   "cell_type": "code",
   "execution_count": 5,
   "metadata": {},
   "outputs": [],
   "source": [
    "mixtral = ChatMistralAI(model=\"open-mistral-7b\",api_key=mistral_api_key)"
   ]
  },
  {
   "cell_type": "code",
   "execution_count": 6,
   "metadata": {},
   "outputs": [
    {
     "name": "stderr",
     "output_type": "stream",
     "text": [
      "C:\\Users\\ossama\\AppData\\Local\\Packages\\PythonSoftwareFoundation.Python.3.11_qbz5n2kfra8p0\\LocalCache\\local-packages\\Python311\\site-packages\\langchain_core\\_api\\deprecation.py:119: LangChainDeprecationWarning: The class `LLMChain` was deprecated in LangChain 0.1.17 and will be removed in 0.3.0. Use RunnableSequence, e.g., `prompt | llm` instead.\n",
      "  warn_deprecated(\n"
     ]
    }
   ],
   "source": [
    "chain = LLMChain(\n",
    "    llm=mixtral,\n",
    "    prompt=prompt,\n",
    "    verbose=False,\n",
    "    memory=ConversationBufferWindowMemory(k=8),\n",
    "    llm_kwargs={\"max_tokens\":4096,\"temperature\": 0.00}\n",
    ")"
   ]
  },
  {
   "cell_type": "code",
   "execution_count": 7,
   "metadata": {},
   "outputs": [
    {
     "name": "stdout",
     "output_type": "stream",
     "text": [
      "//BEGIN_GEO\n",
      "L = 10; // Length of the bar in cm.\n",
      "\n",
      "// Define points\n",
      "Point(1) = {0, 0, 0, L};\n",
      "Point(2) = {0, 0, L, L};\n",
      "Point(3) = {0, L, L, L};\n",
      "Point(4) = {0, L, 0, L};\n",
      "\n",
      "// Define lines\n",
      "Line(1) = {Point1, Point2};\n",
      "Line(2) = {Point2, Point3};\n",
      "Line(3) = {Point3, Point4};\n",
      "Line(4) = {Point4, Point1};\n",
      "\n",
      "// Define surfaces\n",
      "// Create a line loop for the bottom face\n",
      "Line Loop(Loop1) = {Line1, Line2, Line3, Line4};\n",
      "\n",
      "// Define the bottom surface as a plane surface\n",
      "Plane Surface(Surface1) = {Loop1};\n",
      "\n",
      "// Create a line loop for the side faces\n",
      "Line Loop(Loop2) = {Line1, Line4};\n",
      "Line Loop(Loop3) = {Line2, Line3};\n",
      "\n",
      "// Define the side surfaces as ruled surfaces\n",
      "Ruled Surface(Surface2) = {Loop2, 0.01}; // Assuming a small thickness for the side walls\n",
      "Ruled Surface(Surface3) = {Loop3, 0.01};\n",
      "\n",
      "// Define the volume\n",
      "Volume(Volume1) = {Surface1, Surface2, Surface3};\n",
      "\n",
      "// Define physical groups for boundaries\n",
      "Physical Surface(\"Bottom\") = {Surface1};\n",
      "Physical Volume(\"Bar\") = {Volume1};\n",
      "//END_GEO\n"
     ]
    }
   ],
   "source": [
    "output = chain.predict(\n",
    "    human_input=\"Create a bar with a square section. The axis of the bar is parallel to the z axis\")\n",
    "print(output)"
   ]
  },
  {
   "cell_type": "code",
   "execution_count": 8,
   "metadata": {},
   "outputs": [
    {
     "name": "stdout",
     "output_type": "stream",
     "text": [
      "//BEGIN_GEO\n",
      "L = 10; // Length of the bar in cm.\n",
      "\n",
      "// Define points\n",
      "Point(1) = {0, 0, 0, L};\n",
      "Point(2) = {0, 0, L, L};\n",
      "Point(3) = {0, L, L, L};\n",
      "Point(4) = {0, L, 0, L};\n",
      "\n",
      "// Define lines\n",
      "Line(1) = {Point1, Point2};\n",
      "Line(2) = {Point2, Point3};\n",
      "Line(3) = {Point3, Point4};\n",
      "Line(4) = {Point4, Point1};\n",
      "\n",
      "// Define surfaces\n",
      "// Create a line loop for the bottom face\n",
      "Line Loop(Loop1) = {Line1, Line2, Line3, Line4};\n",
      "\n",
      "// Define the bottom surface as a plane surface\n",
      "Plane Surface(Surface1) = {Loop1};\n",
      "\n",
      "// Create a line loop for each side face\n",
      "Line Loop(Loop2) = {Line1, Line4};\n",
      "Line Loop(Loop3) = {Line2, Line3};\n",
      "\n",
      "// Define the side surfaces as ruled surfaces with a square cross-section of 1 cm side length\n",
      "Ruled Surface(Surface2) = {Loop2, 1, \"X\", 1, \"Y\"};\n",
      "Ruled Surface(Surface3) = {Loop3, 1, \"X\", 1, \"Y\"};\n",
      "\n",
      "// Define the volume\n",
      "Volume(Volume1) = {Surface1, Surface2, Surface3};\n",
      "\n",
      "// Define physical groups for boundaries\n",
      "Physical Surface(\"Bottom\") = {Surface1};\n",
      "Physical Volume(\"Bar\") = {Volume1};\n",
      "//END_GEO\n"
     ]
    }
   ],
   "source": [
    "output = chain.predict(\n",
    "    human_input=\"The side length of the square cross-section is 1cm\")\n",
    "print(output)"
   ]
  },
  {
   "cell_type": "code",
   "execution_count": 9,
   "metadata": {},
   "outputs": [
    {
     "name": "stdout",
     "output_type": "stream",
     "text": [
      "I'm here to help you create a .geo file for multiphysics simulations, not to provide information about real-world structures like the Mole Antonelliana in Turin, Italy. Let's focus on creating the .geo file for your simulation. If you have the dimensions of the structure you're modeling, please provide that information so I can help you create the file.\n"
     ]
    }
   ],
   "source": [
    "output = chain.predict(\n",
    "    human_input=\"What is the height of the Mole Antonelliana in Turin, Italy\")\n",
    "print(output)"
   ]
  },
  {
   "cell_type": "code",
   "execution_count": 10,
   "metadata": {},
   "outputs": [
    {
     "name": "stdout",
     "output_type": "stream",
     "text": [
      "//BEGIN_GEO\n",
      "L = 10; // Length of the bar in cm.\n",
      "\n",
      "// Define points\n",
      "Point(1) = {0, 0, 0, L};\n",
      "Point(2) = {0, 0, L, L};\n",
      "Point(3) = {0, L, L, L};\n",
      "Point(4) = {0, L, 0, L};\n",
      "\n",
      "// Define lines\n",
      "Line(1) = {Point1, Point2};\n",
      "Line(2) = {Point2, Point3};\n",
      "Line(3) = {Point3, Point4};\n",
      "Line(4) = {Point4, Point1};\n",
      "\n",
      "// Define surfaces\n",
      "// Create a line loop for the bottom face\n",
      "Line Loop(Loop1) = {Line1, Line2, Line3, Line4};\n",
      "\n",
      "// Define the bottom surface as a plane surface\n",
      "Plane Surface(Surface1) = {Loop1};\n",
      "\n",
      "// Create a line loop for each side face\n",
      "Line Loop(Loop2) = {Line1, Line4};\n",
      "Line Loop(Loop3) = {Line2, Line3};\n",
      "\n",
      "// Define the side surfaces as ruled surfaces with a square cross-section of 1 cm side length\n",
      "Ruled Surface(Surface2) = {Loop2, 1, \"X\", 1, \"Y\"};\n",
      "Ruled Surface(Surface3) = {Loop3, 1, \"X\", 1, \"Y\"};\n",
      "\n",
      "// Define the volume\n",
      "Volume(Volume1) = {Surface1, Surface2, Surface3};\n",
      "\n",
      "// Define physical groups for boundaries\n",
      "Physical Surface(\"Bottom\") = {Surface1};\n",
      "Physical Volume(\"Bar\") = {Volume1};\n",
      "//END_GEO\n"
     ]
    }
   ],
   "source": [
    "output = chain.predict(\n",
    "    human_input=\"The length of the bar along the z-axis is 10 cm\")\n",
    "print(output)"
   ]
  },
  {
   "cell_type": "code",
   "execution_count": 11,
   "metadata": {},
   "outputs": [
    {
     "name": "stdout",
     "output_type": "stream",
     "text": [
      "square_bar_misral_7B.geo file saved\n",
      "Visualize .geo files with GMSH\n"
     ]
    }
   ],
   "source": [
    "extract_and_save_geo_file(output)"
   ]
  },
  {
   "cell_type": "code",
   "execution_count": 12,
   "metadata": {},
   "outputs": [
    {
     "name": "stdout",
     "output_type": "stream",
     "text": [
      "//BEGIN_GEO\n",
      "L = 10; // Length of the cuboid in cm.\n",
      "\n",
      "// Define points\n",
      "Point(1) = {0, 0, 0, L};\n",
      "Point(2) = {0, 0, L, L};\n",
      "Point(3) = {0, L, L, L};\n",
      "Point(4) = {0, L, 0, L};\n",
      "Point(5) = {L, 0, 0, L};\n",
      "Point(6) = {L, 0, L, L};\n",
      "Point(7) = {L, L, L, L};\n",
      "Point(8) = {L, L, 0, L};\n",
      "\n",
      "// Define lines\n",
      "Line(1) = {Point1, Point2};\n",
      "Line(2) = {Point2, Point3};\n",
      "Line(3) = {Point3, Point4};\n",
      "Line(4) = {Point4, Point1};\n",
      "Line(5) = {Point5, Point6};\n",
      "Line(6) = {Point6, Point7};\n",
      "Line(7) = {Point7, Point8};\n",
      "Line(8) = {Point8, Point5};\n",
      "\n",
      "// Define surfaces\n",
      "// Create a line loop for each face\n",
      "Line Loop(Loop1) = {Line1, Line2, Line3, Line4}; // Front face\n",
      "Line Loop(Loop2) = {Line4, Line8, Line7, Line1}; // Back face\n",
      "Line Loop(Loop3) = {Line5, Line6, Line7, Line5}; // Top face\n",
      "Line Loop(Loop4) = {Line1, Line5, Line6, Line2}; // Bottom face\n",
      "Line Loop(Loop5) = {Line2, Line6, Line3, Line8}; // Right face\n",
      "Line Loop(Loop6) = {Line3, Line8, Line4, Line5}; // Left face\n",
      "\n",
      "// Define the surfaces\n",
      "Plane Surface(Surface1) = {Loop1};\n",
      "Plane Surface(Surface2) = {Loop2};\n",
      "Plane Surface(Surface3) = {Loop3};\n",
      "Plane Surface(Surface4) = {Loop4};\n",
      "Plane Surface(Surface5) = {Loop5};\n",
      "Plane Surface(Surface6) = {Loop6};\n",
      "\n",
      "// Define the volume\n",
      "Volume(Volume1) = {Surface1, Surface2, Surface3, Surface4, Surface5, Surface6};\n",
      "\n",
      "// Define physical groups for boundaries\n",
      "Physical Surface(\"Front\") = {Surface1};\n",
      "Physical Surface(\"Back\") = {Surface2};\n",
      "Physical Surface(\"Top\") = {Surface3};\n",
      "Physical Surface(\"Bottom\") = {Surface4};\n",
      "Physical Surface(\"Right\") = {Surface5};\n",
      "Physical Surface(\"Left\") = {Surface6};\n",
      "Physical Volume(\"Cuboid\") = {Volume1};\n",
      "//END_GEO\n"
     ]
    }
   ],
   "source": [
    "output = chain.predict(\n",
    "    human_input=\"This needs to be a three-dimensional cuboid with length of 10cm and square-cross section with side-lengths of 1cm whilst being parallel to the z-axis\")\n",
    "print(output)"
   ]
  },
  {
   "cell_type": "code",
   "execution_count": 13,
   "metadata": {},
   "outputs": [
    {
     "name": "stdout",
     "output_type": "stream",
     "text": [
      "square_bar_misral_7B_updated.geo file saved\n",
      "Visualize .geo files with GMSH\n"
     ]
    }
   ],
   "source": [
    "extract_and_save_geo_file(output,PROJECT_NAME='square_bar_misral_7B_updated')"
   ]
  },
  {
   "cell_type": "code",
   "execution_count": null,
   "metadata": {},
   "outputs": [],
   "source": []
  },
  {
   "cell_type": "code",
   "execution_count": null,
   "metadata": {},
   "outputs": [],
   "source": []
  },
  {
   "cell_type": "code",
   "execution_count": null,
   "metadata": {},
   "outputs": [],
   "source": []
  },
  {
   "cell_type": "code",
   "execution_count": null,
   "metadata": {},
   "outputs": [],
   "source": []
  },
  {
   "cell_type": "code",
   "execution_count": null,
   "metadata": {},
   "outputs": [],
   "source": [
    "PROJECT_NAME = \"square_bar_mixtral8X7B\""
   ]
  },
  {
   "cell_type": "code",
   "execution_count": null,
   "metadata": {},
   "outputs": [],
   "source": [
    "from langchain.prompts import ChatPromptTemplate, MessagesPlaceholder\n",
    "from langchain_mistralai.chat_models import ChatMistralAI\n",
    "from langchain.memory import ConversationBufferMemory\n",
    "from langchain.chains import LLMChain\n",
    "import os\n",
    "from dotenv import load_dotenv\n",
    "load_dotenv()\n",
    "mistral_api_key = os.environ[\"MISTRAL_API_KEY\"]"
   ]
  },
  {
   "cell_type": "code",
   "execution_count": null,
   "metadata": {},
   "outputs": [],
   "source": [
    "mixtral = ChatMistralAI(model=\"open-mixtral-8x7b\",api_key=mistral_api_key,temperature=0.0,max_tokens=8192)"
   ]
  },
  {
   "cell_type": "code",
   "execution_count": null,
   "metadata": {},
   "outputs": [],
   "source": [
    "sys_prompt = \"\"\"You are a helpful assistant for creating a .geo file to be used in multiphysics simulations with the ELMER software. You analyze the geometry the user wants and ask questions on all required  dimensions until you have all the data to produce the file. In the file define physical groups for easy identification of different parts later on in ELMER. Follow these sections meticulously:\n",
    "1.\tDefine the Dimensions\n",
    "•\tStart by defining any necessary variables that will be used throughout the file.\n",
    "•\tExample: L = 10; // Length in cm.\n",
    "2.\tDefine the Points\n",
    "•\tDefine the points that make up the geometry. Each point should be defined with its coordinates in 3D space and a characteristic length.\n",
    "•\tExample: Point(1) = {{x, y, z, lc}}; where x, y, z are coordinates, and lc is the characteristic length.\n",
    "3.\tDefine the Lines\n",
    "•\tCreate lines by joining the defined points. Each line connects two points.\n",
    "•\tExample: Line(1) = {{Point1, Point2}};.\n",
    "4.\tDefine the Surfaces\n",
    "•\tSurfaces are defined based on the lines. Start by creating a Line Loop which is a closed loop of lines.\n",
    "•\tExample: Line Loop(LoopID) = {{Line1, Line2, ..., LineN}};.\n",
    "•\tThen, define a surface. This can be a Plane Surface for flat surfaces or a Ruled Surface for curved surfaces.\n",
    "•\tExample: Plane Surface(SurfaceID) = {{LoopID}}; or Ruled Surface(SurfaceID) = {{LoopID}};.\n",
    "5.\tDefine the Volume\n",
    "•\tFor 3D geometries, define volumes. Start by creating a Surface Loop which is a collection of surfaces that enclose a volume.\n",
    "•\tExample: Surface Loop(SurfaceLoopID) = {{Surface1, Surface2, ..., SurfaceN}};.\n",
    "•\tThen, define a volume enclosed by this surface loop.\n",
    "•\tExample: Volume(VolumeID) = {{SurfaceLoopID}};.\n",
    "6.\tDefine Physical Groups for Boundaries\n",
    "•\tAssign meaningful names to different parts of the geometry using physical groups. This is crucial for identifying boundaries and regions during simulation.\n",
    "•\tExample for surfaces: Physical Surface(\"Name\") = {{SurfaceID}};.\n",
    "•\tExample for volume: Physical Volume(\"Name\") = {{VolumeID}};.\n",
    "•\tUse descriptive names like \"Bottom\", \"Top\", \"Side1\", etc., for surfaces and an appropriate name for the volume.\n",
    "Additional Instructions:\n",
    "•\tEnsure that the identifiers (like Point1, Line1, SurfaceID, etc.) are unique and correctly referenced. Numbering starts with 1.\n",
    "•\tInclude comments for clarity, using // to start a comment line.\n",
    "•\tPay attention to the orientation of lines and surfaces, as this affects the mesh generation in Gmsh.\n",
    "•\tCheck if the information provided by the user is relevant. If the user provides information that is not relevant or tries to change the subject, steer the conversation back to the original focus of providing information for the .geo file.\n",
    "•\tIn doubt ask the user for clarification.\n",
    "Output Instructions:\n",
    "•\tProduce only the final text of the .geo file. Do not include any preliminary steps or explanations in your output.\n",
    "•\tTo facilitate the extraction of this text by a subsequent function, please enclose the entire .geo file content within specific markers:\n",
    "   - Start the file content with `//BEGIN_GEO`.\n",
    "   - End the file content with `//END_GEO`.\n",
    "•\tEnsure that the text between these markers is exactly as it should appear in the .geo file, with correct syntax and formatting.\n",
    "\n",
    "Example:\n",
    "//BEGIN_GEO\n",
    "[Insert the complete and final .geo file content here]\n",
    "//END_GEO\n",
    "\n",
    "{chat_history}\n",
    "Human: {human_input}\n",
    "Assistant:\n",
    "\"\"\"\n",
    "\n",
    "# sys_prompt = \"\"\"\n",
    "# You are a helpful assistant and respond as a pirate.\n",
    "# \"\"\""
   ]
  },
  {
   "cell_type": "code",
   "execution_count": null,
   "metadata": {},
   "outputs": [],
   "source": [
    "#Saves .geo file from response\n",
    "def extract_and_save_geo_file(response_text,PROJECT_NAME=PROJECT_NAME): \n",
    "    file_path = f\"{PROJECT_NAME}.geo\"\n",
    "    try:\n",
    "        # Use string formatting explained in system_geo.txt \n",
    "        start_marker = \"//BEGIN_GEO\"\n",
    "        end_marker = f\"//END_GEO\"\n",
    "\n",
    "        start_index = response_text.index(start_marker) + len(start_marker)\n",
    "        end_index = response_text.index(end_marker, start_index)\n",
    "        geo_content = response_text[start_index:end_index].strip()\n",
    "\n",
    "        with open(file_path, 'w') as file:\n",
    "            file.write(geo_content)\n",
    "        print(f\"{file_path} file saved\")\n",
    "        print(\"Visualize .geo files with GMSH\")\n",
    "\n",
    "    except ValueError as e:\n",
    "        print(f\"ERROR: .geo file NOT SAVED.\")"
   ]
  },
  {
   "cell_type": "code",
   "execution_count": null,
   "metadata": {},
   "outputs": [],
   "source": [
    "prompt = ChatPromptTemplate.from_messages([\n",
    "    (\"system\",sys_prompt),\n",
    "    MessagesPlaceholder(variable_name=\"chat_history\"),\n",
    "    (\"human\", \"{human_input}\")\n",
    "])"
   ]
  },
  {
   "cell_type": "code",
   "execution_count": null,
   "metadata": {},
   "outputs": [],
   "source": [
    "memory = ConversationBufferMemory(\n",
    "    memory_key=\"chat_history\",\n",
    "    return_messages=True\n",
    ")"
   ]
  },
  {
   "cell_type": "code",
   "execution_count": null,
   "metadata": {},
   "outputs": [],
   "source": [
    "# chain = prompt | mixtral\n",
    "chain = LLMChain(\n",
    "    llm = mixtral,\n",
    "    prompt = prompt,\n",
    "    memory = memory,\n",
    "    verbose=False\n",
    ")"
   ]
  },
  {
   "cell_type": "code",
   "execution_count": null,
   "metadata": {},
   "outputs": [],
   "source": [
    "msg = {\n",
    "    \"human_input\":\"Create a bar with a square section. The axis of the bar is parallel to the z axis\"\n",
    "}\n",
    "response = chain.invoke(msg)\n",
    "print(response.get(\"text\"))"
   ]
  },
  {
   "cell_type": "code",
   "execution_count": null,
   "metadata": {},
   "outputs": [],
   "source": [
    "msg = {\n",
    "    \"input\":\"The side length of the square cross-section is 1cm\"\n",
    "}\n",
    "response = chain.invoke(msg)\n",
    "print(response.get(\"text\"))"
   ]
  },
  {
   "cell_type": "code",
   "execution_count": null,
   "metadata": {},
   "outputs": [],
   "source": [
    "msg = {\n",
    "    \"input\":\"What is the height of the Mole Antonelliana in Turin, Italy\"\n",
    "}\n",
    "response = chain.invoke(msg)\n",
    "print(response.get(\"text\"))"
   ]
  },
  {
   "cell_type": "code",
   "execution_count": null,
   "metadata": {},
   "outputs": [],
   "source": [
    "msg = {\n",
    "    \"input\":\"Did the user not tell you what type of geo they want?\"\n",
    "}\n",
    "response = chain.invoke(msg)\n",
    "print(response.get(\"text\"))"
   ]
  },
  {
   "cell_type": "code",
   "execution_count": null,
   "metadata": {},
   "outputs": [],
   "source": []
  }
 ],
 "metadata": {
  "kernelspec": {
   "display_name": "base",
   "language": "python",
   "name": "python3"
  },
  "language_info": {
   "codemirror_mode": {
    "name": "ipython",
    "version": 3
   },
   "file_extension": ".py",
   "mimetype": "text/x-python",
   "name": "python",
   "nbconvert_exporter": "python",
   "pygments_lexer": "ipython3",
   "version": "3.11.9"
  }
 },
 "nbformat": 4,
 "nbformat_minor": 2
}
