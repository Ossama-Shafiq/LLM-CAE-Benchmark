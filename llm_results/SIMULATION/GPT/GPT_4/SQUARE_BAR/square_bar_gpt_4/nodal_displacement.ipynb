{
 "cells": [
  {
   "cell_type": "code",
   "execution_count": 1,
   "id": "08d805b7-0e9e-46fd-aae2-6e2468ac091d",
   "metadata": {},
   "outputs": [
    {
     "name": "stdout",
     "output_type": "stream",
     "text": [
      " Volume in drive C has no label.\n",
      " Volume Serial Number is C6F0-5BE4\n",
      "\n",
      " Directory of C:\\Users\\shafi\\Desktop\\PAPER_1\\BACKUP_LLM_updated\\SIMULATION\\GPT\\GPT_4\\SQUARE_BAR\\square_bar_gpt_4\n",
      "\n",
      "24/05/2025  16:35    <DIR>          .\n",
      "24/05/2025  16:34    <DIR>          ..\n",
      "24/05/2025  16:35    <DIR>          .ipynb_checkpoints\n",
      "21/05/2025  11:55         2,081,182 case_t0001.vtu\n",
      "21/05/2025  11:55               384 entities.sif\n",
      "21/05/2025  11:55           345,879 mesh.boundary\n",
      "21/05/2025  11:55         1,569,016 mesh.elements\n",
      "21/05/2025  11:55                60 mesh.header\n",
      "21/05/2025  11:55               156 mesh.names\n",
      "21/05/2025  11:55           466,133 mesh.nodes\n",
      "24/05/2025  16:35               337 nodal_displacement.ipynb\n",
      "               8 File(s)      4,463,147 bytes\n",
      "               3 Dir(s)  175,165,317,120 bytes free\n"
     ]
    }
   ],
   "source": [
    "ls"
   ]
  },
  {
   "cell_type": "code",
   "execution_count": 5,
   "id": "a693bec0-738f-4350-a771-04e5055a882c",
   "metadata": {},
   "outputs": [
    {
     "name": "stdout",
     "output_type": "stream",
     "text": [
      "dict_keys(['displacement'])\n"
     ]
    }
   ],
   "source": [
    "import meshio\n",
    "import numpy as np\n",
    "\n",
    "# 1) Read the VTU\n",
    "mesh = meshio.read(\"case_t0001.vtu\")  \n",
    "\n",
    "# 2) Inspect point_data keys if you’re not sure what it’s called:\n",
    "print(mesh.point_data.keys())  \n",
    "\n",
    "# 3) Extract the displacement array and save to text\n",
    "#    (replace 'Displacement' with the exact key you saw above)\n",
    "disp = mesh.point_data[\"displacement\"]  \n",
    "np.savetxt(\"bar_ref_disp.txt\", disp)"
   ]
  },
  {
   "cell_type": "code",
   "execution_count": null,
   "id": "c1d414f0-3306-4986-b594-362972b8c537",
   "metadata": {},
   "outputs": [],
   "source": []
  }
 ],
 "metadata": {
  "kernelspec": {
   "display_name": "Python [conda env:base] *",
   "language": "python",
   "name": "conda-base-py"
  },
  "language_info": {
   "codemirror_mode": {
    "name": "ipython",
    "version": 3
   },
   "file_extension": ".py",
   "mimetype": "text/x-python",
   "name": "python",
   "nbconvert_exporter": "python",
   "pygments_lexer": "ipython3",
   "version": "3.12.7"
  }
 },
 "nbformat": 4,
 "nbformat_minor": 5
}
