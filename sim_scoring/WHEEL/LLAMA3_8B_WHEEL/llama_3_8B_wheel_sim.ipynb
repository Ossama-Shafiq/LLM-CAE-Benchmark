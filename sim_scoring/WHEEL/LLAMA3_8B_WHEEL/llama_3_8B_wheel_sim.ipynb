{
 "cells": [
  {
   "cell_type": "code",
   "execution_count": 1,
   "id": "97bbbfc8-a1d8-40f8-b5e0-87fd782afa65",
   "metadata": {},
   "outputs": [],
   "source": [
    "import os\n",
    "import gmsh"
   ]
  },
  {
   "cell_type": "code",
   "execution_count": 3,
   "id": "443f67f2-6cd1-4b06-bf4e-c2a831d638d3",
   "metadata": {},
   "outputs": [
    {
     "data": {
      "text/plain": [
       "'C:\\\\Users\\\\shafi\\\\Desktop\\\\PERF-METRICS_GEOS_SIMS\\\\SIMULATION_SOME_LLMS_REDONE\\\\LLAMA3_8B_WHEEL'"
      ]
     },
     "execution_count": 3,
     "metadata": {},
     "output_type": "execute_result"
    }
   ],
   "source": [
    "pwd"
   ]
  },
  {
   "cell_type": "code",
   "execution_count": 5,
   "id": "a37dcd37-3759-430d-92a6-c7292d1f5fa6",
   "metadata": {},
   "outputs": [],
   "source": [
    "PROJECT_NAME = 'wheel_llama_3_8B'"
   ]
  },
  {
   "cell_type": "code",
   "execution_count": 7,
   "id": "19a9b0cc-3993-4bc1-9c2b-16f3eb335c2c",
   "metadata": {},
   "outputs": [],
   "source": [
    "def generate_ELMER_mesh():\n",
    "    try:\n",
    "        current_directory = os.getcwd()\n",
    "        msh_file = os.path.join(current_directory, f'{PROJECT_NAME}.msh')  \n",
    "        !\"C:\\Program Files\\ElmerFEM-gui-nompi-Windows-AMD64\\bin\\ElmerGrid.exe\" 14 2 \"{msh_file}\" \n",
    "        print(f\"ELMER project created in {PROJECT_NAME}\")\n",
    "        print(f\"Copy .sif file in {PROJECT_NAME}\")\n",
    "    except ValueError as e:\n",
    "        print(f\"ERROR.\")"
   ]
  },
  {
   "cell_type": "code",
   "execution_count": 9,
   "id": "6d225afb-35a7-46e4-9193-f105d4e00a10",
   "metadata": {},
   "outputs": [
    {
     "name": "stdout",
     "output_type": "stream",
     "text": [
      "\n",
      "Starting program Elmergrid, compiled on Apr 16 2025\n",
      "Elmergrid reading in-line arguments\n",
      "Output will be saved to file C:\\Users\\shafi\\Desktop\\PERF-METRICS_GEOS_SIMS\\SIMULATION_SOME_LLMS_REDONE\\LLAMA3_8B_WHEEL\\wheel_llama_3_8B.\n",
      "\n",
      "Elmergrid loading data:\n",
      "-----------------------\n",
      "Format chosen using the first line: $MeshFormat\n",
      "Gmsh input file format is type   4.1 in ASCII.\n",
      "Loading mesh in Gmsh format 4.1 from file C:\\Users\\shafi\\Desktop\\PERF-METRICS_GEOS_SIMS\\SIMULATION_SOME_LLMS_REDONE\\LLAMA3_8B_WHEEL\\wheel_llama_3_8B.msh\n",
      "Reading 6 entities in 0D\n",
      "Reading 9 entities in 1D\n",
      "Reading 7 entities in 2D\n",
      "Reading 1 entities in 3D\n",
      "Allocating for 6455 knots and 30272 elements.\n",
      "Leading element dimension is 3\n",
      "BC name for physical group 2 is: Top\n",
      "BC name for physical group 3 is: Bottom\n",
      "Body name for physical group 1 is: MainBody\n",
      "Allocating lookup table for tags of size 9\n",
      "Defined 6 0DIM entities with geometric tag range [1 6]\n",
      "Defined 9 1DIM entities with geometric tag range [1 9]\n",
      "Defined 7 2DIM entities with geometric tag range [1 7]\n",
      "   Physical given tag range is [2 3]\n",
      "Defined 1 3DIM entities with geometric tag range [1 1]\n",
      "   Physical given tag range is [1 1]\n",
      "Physical tag offset for 1D is 3\n",
      "Physical tag offset for 0D is 3\n",
      "Geometric tag offset for 1D is 10\n",
      "Geometric tag offset for 0D is 19\n",
      "Reading 6455 nodes in 23 blocks.\n",
      "Reading 30272 elements in 3 blocks.\n",
      "Mapping mesh tag 2 to physical tag 3 in 2DIM\n",
      "Mapping mesh tag 7 to physical tag 2 in 2DIM\n",
      "Mapping mesh tag 1 to physical tag 1 in 3DIM\n",
      "Moving bulk elements to boundary elements\n",
      "Assuming that boundaries names are already Ok!\n",
      "Leading bulk elementtype is 504\n",
      "Trailing bulk elementtype is 303\n",
      "There are 1024 (out of 30272) lower dimensional elements.\n",
      "Node 3018 belongs to maximum of 38 elements\n",
      "Found correctly 1024 side elements.\n",
      "Parent elements were reordered up to index 29248.\n",
      "Moved 29248 elements (out of 30272) to new positions\n",
      "Successfully read the mesh from the Gmsh input file C:\\Users\\shafi\\Desktop\\PERF-METRICS_GEOS_SIMS\\SIMULATION_SOME_LLMS_REDONE\\LLAMA3_8B_WHEEL\\wheel_llama_3_8B.msh\n",
      "Using physical numbering of entities\n",
      "\n",
      "Elmergrid creating and manipulating meshes:\n",
      "-------------------------------------------\n",
      "Bounding box of all nodes in mesh:\n",
      "X:[-5,5] Y:[-5,5] Z:[-12,12]\n",
      "Calculate Mesh Pieces in mesh:\n",
      "There is a single piece in the mesh, so the mesh is conforming.\n",
      "\n",
      "Elmergrid saving data with method 2:\n",
      "-------------------------------------\n",
      "Saving mesh in ElmerSolver format to directory C:\\Users\\shafi\\Desktop\\PERF-METRICS_GEOS_SIMS\\SIMULATION_SOME_LLMS_REDONE\\LLAMA3_8B_WHEEL\\wheel_llama_3_8B.\n",
      "Saving 6455 coordinates to mesh.nodes.\n",
      "Saving 29248 element topologies to mesh.elements.\n",
      "Saving boundary elements to mesh.boundary.\n",
      "Saving header info to mesh.header.\n",
      "Saving names info to mesh.names.\n",
      "Saving entities info to entities.sif.\n",
      "\n",
      "Thank you for using Elmergrid!\n",
      "Send bug reports and feature wishes to elmeradm@csc.fi\n",
      "ELMER project created in wheel_llama_3_8B\n",
      "Copy .sif file in wheel_llama_3_8B\n"
     ]
    }
   ],
   "source": [
    "generate_ELMER_mesh()"
   ]
  },
  {
   "cell_type": "code",
   "execution_count": 11,
   "id": "4d9e7891-5e8d-4c3c-9f46-a5fd528c8058",
   "metadata": {},
   "outputs": [
    {
     "name": "stdout",
     "output_type": "stream",
     "text": [
      "Physical groups in the mesh:\n",
      "Dimension 2, Tag 2, Name: Top\n",
      "Dimension 2, Tag 3, Name: Bottom\n",
      "Dimension 3, Tag 1, Name: MainBody\n"
     ]
    }
   ],
   "source": [
    "gmsh.initialize()\n",
    "gmsh.open(f\"{PROJECT_NAME}.msh\")\n",
    "physical_groups = gmsh.model.getPhysicalGroups()\n",
    "print(\"Physical groups in the mesh:\")\n",
    "for group in physical_groups:\n",
    "    dim, tag = group\n",
    "    name = gmsh.model.getPhysicalName(dim, tag)\n",
    "    if name == \"\":\n",
    "        name = f\"No name (tag {tag})\"\n",
    "    print(f\"Dimension {dim}, Tag {tag}, Name: {name}\")\n",
    "gmsh.finalize()"
   ]
  },
  {
   "cell_type": "code",
   "execution_count": 13,
   "id": "4ac3f4bd-7544-48c0-ac2a-6b82db8be214",
   "metadata": {},
   "outputs": [
    {
     "name": "stdout",
     "output_type": "stream",
     "text": [
      "ELMER SOLVER (v 9.0) STARTED AT: 2025/05/26 22:22:37\n",
      "ParCommInit:  Initialize #PEs:            1\n",
      "MAIN: \n",
      "MAIN: =============================================================\n",
      "MAIN: ElmerSolver finite element software, Welcome!\n",
      "MAIN: This program is free software licensed under (L)GPL\n",
      "MAIN: Copyright 1st April 1995 - , CSC - IT Center for Science Ltd.\n",
      "MAIN: Webpage http://www.csc.fi/elmer, Email elmeradm@csc.fi\n",
      "MAIN: Version: 9.0 (Rev: Release, Compiled: 2025-04-16)\n",
      "MAIN:  Running one task without MPI parallelization.\n",
      "MAIN:  Running with just one thread per task.\n",
      "MAIN:  Lua interpreter linked in.\n",
      "MAIN: =============================================================\n",
      "MAIN: \n",
      "MAIN: \n",
      "MAIN: -------------------------------------\n",
      "MAIN: Reading Model: C:\\Users\\shafi\\Desktop\\PERF-METRICS_GEOS_SIMS\\SIMULATION_SOME_LLMS_REDONE\\LLAMA3_8B_WHEEL\\wheel_llama_3_8B.sif\n",
      " Caught LUA error:[string \"loadfile(\"C:/Program Files (x86)/Elmer/shar...\"]:1: attempt to call a nil value\n",
      " Caught LUA error:[string \"loadstring(readsif(\"C:\\Users\\shafi\\Desktop\\...\"]:1: attempt to call global 'readsif' (a nil value)\n",
      "LoadInputFile: Scanning input file: C:\\Users\\shafi\\Desktop\\PERF-METRICS_GEOS_SIMS\\SIMULATION_SOME_LLMS_REDONE\\LLAMA3_8B_WHEEL\\wheel_llama_3_8B.sif\n",
      "LoadInputFile: Scanning only size info\n",
      "LoadInputFile: First time visiting\n",
      "LoadInputFile: Reading base load of sif file\n",
      "ERROR:: LoadInputFile: \n",
      "ERROR:: LoadInputFile:  Unknown specifier: [end]\n",
      "ERROR:: LoadInputFile:  In section: [constants]\n",
      "ERROR:: LoadInputFile:  For property name:[...]\n"
     ]
    },
    {
     "name": "stderr",
     "output_type": "stream",
     "text": [
      "STOP 1\n"
     ]
    }
   ],
   "source": [
    "!\"C:\\Program Files\\ElmerFEM-gui-nompi-Windows-AMD64\\bin\\ElmerSolver.exe\" \"C:\\Users\\shafi\\Desktop\\PERF-METRICS_GEOS_SIMS\\SIMULATION_SOME_LLMS_REDONE\\LLAMA3_8B_WHEEL\\wheel_llama_3_8B.sif\""
   ]
  },
  {
   "cell_type": "code",
   "execution_count": null,
   "id": "8040e92e-71e5-4185-a9f8-cba15534d088",
   "metadata": {},
   "outputs": [],
   "source": []
  }
 ],
 "metadata": {
  "kernelspec": {
   "display_name": "Python [conda env:base] *",
   "language": "python",
   "name": "conda-base-py"
  },
  "language_info": {
   "codemirror_mode": {
    "name": "ipython",
    "version": 3
   },
   "file_extension": ".py",
   "mimetype": "text/x-python",
   "name": "python",
   "nbconvert_exporter": "python",
   "pygments_lexer": "ipython3",
   "version": "3.12.7"
  }
 },
 "nbformat": 4,
 "nbformat_minor": 5
}
